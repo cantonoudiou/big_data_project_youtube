{
 "cells": [
  {
   "cell_type": "code",
   "execution_count": 1,
   "id": "70602ddf",
   "metadata": {},
   "outputs": [],
   "source": [
    "import pandas as pd\n",
    "import pyspark\n",
    "from pyspark.sql import SparkSession\n",
    "from pyspark.context import SparkContext, SparkConf\n",
    "from pyspark.sql.types import *\n",
    "from pyspark.sql.functions import *\n",
    "\n",
    "from operator import add\n",
    "from pyspark.sql import functions as F\n",
    "\n",
    "from functools import reduce\n",
    "from pyspark.sql import DataFrame\n",
    "\n",
    "import os\n",
    "import sys\n",
    "\n",
    "os.environ['PYSPARK_PYTHON'] = sys.executable\n",
    "os.environ['PYSPARK_DRIVER_PYTHON'] = sys.executable"
   ]
  },
  {
   "cell_type": "code",
   "execution_count": 2,
   "id": "160a0201",
   "metadata": {},
   "outputs": [
    {
     "name": "stdout",
     "output_type": "stream",
     "text": [
      "23/01/19 00:34:45 WARN Utils: Your hostname, Christoss-MacBook-Air.local resolves to a loopback address: 127.0.0.1; using 192.168.10.11 instead (on interface en0)\n",
      "23/01/19 00:34:45 WARN Utils: Set SPARK_LOCAL_IP if you need to bind to another address\n"
     ]
    },
    {
     "name": "stderr",
     "output_type": "stream",
     "text": [
      "Setting default log level to \"WARN\".\n",
      "To adjust logging level use sc.setLogLevel(newLevel). For SparkR, use setLogLevel(newLevel).\n"
     ]
    },
    {
     "name": "stdout",
     "output_type": "stream",
     "text": [
      "23/01/19 00:34:52 WARN NativeCodeLoader: Unable to load native-hadoop library for your platform... using builtin-java classes where applicable\n",
      "23/01/19 00:35:00 WARN Utils: Service 'SparkUI' could not bind on port 4040. Attempting port 4041.\n"
     ]
    }
   ],
   "source": [
    "conf = SparkConf().setAppName('learning-pyspark').setMaster('local[*]') \n",
    "sc = SparkContext.getOrCreate(conf)\n",
    "\n",
    "spark = SparkSession(sc)\n"
   ]
  },
  {
   "cell_type": "markdown",
   "id": "7c03a61b",
   "metadata": {},
   "source": [
    "## Load Data from Firestore"
   ]
  },
  {
   "cell_type": "code",
   "execution_count": 3,
   "id": "cb3e2ef5",
   "metadata": {},
   "outputs": [
    {
     "name": "stdout",
     "output_type": "stream",
     "text": [
      "env: GOOGLE_APPLICATION_CREDENTIALS=/Users/christosantonoudiou/Documents/Data Science_UNIC/3rd Semester/Big Data Managementand Processing/Semester Project/youtube-trending-videos-372216-8f8713917257.json\n"
     ]
    }
   ],
   "source": [
    "%env GOOGLE_APPLICATION_CREDENTIALS=/Users/christosantonoudiou/Documents/Data Science_UNIC/3rd Semester/Big Data Managementand Processing/Semester Project/youtube-trending-videos-372216-8f8713917257.json\n"
   ]
  },
  {
   "cell_type": "code",
   "execution_count": 4,
   "id": "2daee6c5",
   "metadata": {},
   "outputs": [],
   "source": [
    "from google.cloud import firestore\n",
    "\n",
    "db = firestore.Client()"
   ]
  },
  {
   "cell_type": "code",
   "execution_count": 5,
   "id": "3204d56b",
   "metadata": {},
   "outputs": [],
   "source": [
    "#import the collections from the firestore\n",
    "\n",
    "br_youtube = db.collection(u'BR_youtube_trending_data')\n",
    "ca_youtube = db.collection(u'CA_youtube_trending_data')\n",
    "de_youtube = db.collection(u'DE_youtube_trending_data')\n",
    "fr_youtube = db.collection(u'FR_youtube_trending_data')\n",
    "gb_youtube = db.collection(u'GB_youtube_trending_data')\n",
    "in_youtube = db.collection(u'IN_youtube_trending_data')\n",
    "jp_youtube = db.collection(u'JP_youtube_trending_data')\n",
    "kr_youtube = db.collection(u'KR_youtube_trending_data')\n",
    "mx_youtube = db.collection(u'MX_youtube_trending_data')\n",
    "ru_youtube = db.collection(u'RU_youtube_trending_data')\n",
    "us_youtube = db.collection(u'US_youtube_trending_data')"
   ]
  },
  {
   "cell_type": "code",
   "execution_count": 6,
   "id": "ea0d44ed",
   "metadata": {},
   "outputs": [],
   "source": [
    "docs_br = br_youtube.stream()\n",
    "docs_ca = ca_youtube.stream()\n",
    "docs_de = de_youtube.stream()\n",
    "docs_fr = fr_youtube.stream()\n",
    "docs_gb = gb_youtube.stream()\n",
    "docs_in = in_youtube.stream()\n",
    "docs_jp = jp_youtube.stream()\n",
    "docs_kr = kr_youtube.stream()\n",
    "docs_mx = mx_youtube.stream()\n",
    "docs_ru = ru_youtube.stream()\n",
    "docs_us = us_youtube.stream()"
   ]
  },
  {
   "cell_type": "markdown",
   "id": "fcb1a207",
   "metadata": {},
   "source": [
    "## Browse through the database"
   ]
  },
  {
   "cell_type": "code",
   "execution_count": 7,
   "id": "28159577",
   "metadata": {},
   "outputs": [
    {
     "name": "stdout",
     "output_type": "stream",
     "text": [
      "7rlwxSPUcQk 17 {'comment_count': 19906, 'description': \"On a fait le test du coronavirus avec @Juju Fitcats Clique ici pour t'abonner ► http://bit.ly/1qAbjhL & rejoins la TeamShape !\\rMes vêtements TeamShape ► http://bit.ly/1wXqeD7 \\rMes compléments Inshape Nutrition ►https://bit.ly/2M9v9QV\\rMes programmes ►https://bit.ly/2TDimHN\\rMa salle de sport ►http://bit.ly/2jaOdSO\\r\\rHARCÈLE-MOI sur : \\rTWITTER : http://bit.ly/1o88uUV\\rINSTAGRAM : http://bit.ly/1Q4RInr (tiboinshape)\\rSNAPCHAT : tiboinshape\\rTIKTOK : tiboinshape\\rFACEBOOK : http://on.fb.me/1EcbKme\\rDISCORD : http://discord.gg/teamshape\\rSPOTIFY : Tibo InShape - Motivation (playlist)\\rTWITCH : TiboInshapeLive\\r\\rMon adresse postale : \\rTibo Inshape\\rCS 52072\\r81012 ALBI CEDEX\\r\\rMon e-mail (business uniquement) ► tiboinshapevideo@gmail.com\\r\\rSi vous lisez cette phrase écrivez « DAAMN » en commentaire !\", 'tags': 'tibo inshape|teamshape|POSITIF AU COVID-19|positif coronavirus|tibo coronavirus|tibo covid 19|juju tibo corona', 'channelTitle': 'Tibo InShape', 'trending_date': DatetimeWithNanoseconds(2020, 8, 17, 0, 0, tzinfo=datetime.timezone.utc), 'comments_disabled': False, 'categoryId': 17, 'likes': 205315, 'publishedAt': DatetimeWithNanoseconds(2020, 8, 11, 16, 0, 31, tzinfo=datetime.timezone.utc), 'channelId': 'UCpWaR3gNAQGsX48cIlQC0qw', 'dislikes': 7932, 'title': 'ON EST POSITIF AU COVID-19 (coronavirus)', 'view_count': 2921686, 'video_id': '7rlwxSPUcQk', 'thumbnail_link': 'https://i.ytimg.com/vi/7rlwxSPUcQk/default.jpg', 'ratings_disabled': False}\n"
     ]
    }
   ],
   "source": [
    "doc_ref = fr_youtube.document(u'7rlwxSPUcQk')\n",
    "doc = doc_ref.get()\n",
    "if doc.exists:\n",
    "    print(doc.id, doc.get('categoryId'), doc.to_dict())"
   ]
  },
  {
   "cell_type": "code",
   "execution_count": 8,
   "id": "cc19d49d",
   "metadata": {},
   "outputs": [
    {
     "name": "stdout",
     "output_type": "stream",
     "text": [
      "--4tfbSyYDE 10 {'comment_count': 3440, 'description': \"JO1｜'YOUNG (JO1 ver.)' PERFORMANCE VIDEO------------------------------------------------------〜JO1、未知の世界へ踏み出す〜3RD SINGLE “CHALLENGER”2021.4.28(WED) RELEASEhttps://jo1.jp\\u3000\\u200b\\u200b------------------------------------------------------JO1 OFFICIAL HP:https://jo1.jp\\u200b\\u200bTwitter:https://twitter.com/official_JO1\\u200b\\u200bInstagram:http://instagram.com/official_JO1\\u200b\\u200bTikTok:https://www.tiktok.com/@jo1_gotothetopWEIBO:https://www.weibo.com/7454644363/prof...\\u200b#JO1\\u200b\\u200b #JO1_DEBUT_1STANNIVERSARY #YOUNG\\u200b\\u200b\", 'channelTitle': 'JO1', 'tags': 'PRODUCE101JAPAN|プデュ|日プ|川尻蓮|豆原一成|川西拓実|河野純喜|木全翔也|金城碧海|白岩瑠姫|佐藤景瑚|鶴房汐恩|與那城奨|大平祥生|JO1|じぇいおーわん|ジェイオーワン|TheSTAR|STARGAZER|PROTOSTAR|OhiraShosei|KawashiriRen|KawanishiTakumi|KimataSyoya|KinjoSukai|KonoJunki|SatoKeigo|ShioiwaRuki|TsuruboShion|MameharaIssei|YonashiroSho|OH-EH-OH|VOICE|MYFRIENDS|Shine a light|STARLIGHT|SAFETYZONE|LAPAPAPAM|無限大|INFINITY|RUNNING|GO|SOWAHT|ツカメ|YOUNG|GARANDMASTER|KUNGCHIKITA|MONSTAR|BEWITHYOU|HAPPYMERRYCHRISTMAS|伝えられるなら', 'trending_date': DatetimeWithNanoseconds(2021, 3, 11, 0, 0, tzinfo=datetime.timezone.utc), 'comments_disabled': False, 'categoryId': 10, 'likes': 28168, 'publishedAt': DatetimeWithNanoseconds(2021, 3, 3, 10, 0, 17, tzinfo=datetime.timezone.utc), 'channelId': 'UCsmXiDP8S40uBeJYxvyulmA', 'dislikes': 262, 'title': \"JO1｜'YOUNG (JO1 ver.)' PERFORMANCE VIDEO\", 'view_count': 560471, 'video_id': '--4tfbSyYDE', 'thumbnail_link': 'https://i.ytimg.com/vi/--4tfbSyYDE/default.jpg', 'ratings_disabled': False} \n",
      "\n"
     ]
    }
   ],
   "source": [
    "doc_ref_jp = jp_youtube.document(u'--4tfbSyYDE')\n",
    "doc = doc_ref_jp.get()\n",
    "if doc.exists:\n",
    "    print(doc.id, doc.get('categoryId'), doc.to_dict(),'\\n')"
   ]
  },
  {
   "cell_type": "markdown",
   "id": "b789d361",
   "metadata": {},
   "source": [
    "## Creating queries"
   ]
  },
  {
   "cell_type": "code",
   "execution_count": 9,
   "id": "c697774b",
   "metadata": {
    "scrolled": false
   },
   "outputs": [
    {
     "name": "stdout",
     "output_type": "stream",
     "text": [
      "-iQvKMRz6aE {'comment_count': 4792, 'description': \"On joue à Cap ou pas cam extrême avec @Juju Fitcats @Darko @Bastos @Chloë Lemn Clique ici pour t'abonner ► http://bit.ly/1qAbjhL & rejoins la TeamShape !\\rMes vêtements TeamShape ► http://bit.ly/1wXqeD7 \\rMes compléments Inshape Nutrition ►https://bit.ly/2M9v9QV\\rMes programmes ►https://bit.ly/2TDimHN\\rMa salle de sport ►http://bit.ly/2jaOdSO\\r\\rHARCÈLE-MOI sur : \\rTWITTER : http://bit.ly/1o88uUV\\rINSTAGRAM : http://bit.ly/1Q4RInr (tiboinshape)\\rSNAPCHAT : tiboinshape\\rTIKTOK : tiboinshape\\rFACEBOOK : http://on.fb.me/1EcbKme\\rDISCORD : http://discord.gg/teamshape\\rSPOTIFY : Tibo InShape - Motivation (playlist)\\rTWITCH : TiboInshapeLive\\rJuju : https://www.youtube.com/channel/UCIPbzkl1kZ_9Gyuph_FGvzg/videosDarko : https://www.youtube.com/c/DarkoCTTG/videosBastos : https://www.youtube.com/user/0bastos/videosChloé : https://www.youtube.com/channel/UCMaS7Dvkue-CEGIZOFn3EcA/videosJadde : insta : @jaddelf Application CAP :Apple : https://apple.co/3d8qFWuAndroid : https://bit.ly/34ARfnn(non sponsorisé mais c'est les copains alors on soutient)\\rMon adresse postale : \\rTibo Inshape\\rCS 52072\\r81012 ALBI CEDEX\\r\\rMon e-mail (business uniquement) ► tiboinshapevideo@gmail.com\\r\\rSi vous lisez cette phrase écrivez « DAAMN » en commentaire !\", 'tags': 'tibo inshape|teamshape', 'channelTitle': 'Tibo InShape', 'trending_date': DatetimeWithNanoseconds(2020, 11, 27, 0, 0, tzinfo=datetime.timezone.utc), 'comments_disabled': False, 'categoryId': 24, 'likes': 155692, 'publishedAt': DatetimeWithNanoseconds(2020, 11, 20, 17, 0, 15, tzinfo=datetime.timezone.utc), 'channelId': 'UCpWaR3gNAQGsX48cIlQC0qw', 'dislikes': 4262, 'title': 'CAP OU PAS CAP EXTRÊME ! (Juju Fitcats, Darko, Bastos, Chloé lemn, Jadde)', 'view_count': 2332722, 'video_id': '-iQvKMRz6aE', 'thumbnail_link': 'https://i.ytimg.com/vi/-iQvKMRz6aE/default.jpg', 'ratings_disabled': False} \n",
      "\n",
      "09HzMJTRN_k {'comment_count': 5357, 'description': \"Ninja warrior avec @LeBouseuh ! Défi parcours d'obstacle !Clique ici pour t'abonner ► http://bit.ly/1qAbjhL & rejoins la TeamShape !\\rMes vêtements TeamShape ► http://bit.ly/1wXqeD7 \\rMes compléments Inshape Nutrition ►https://bit.ly/2M9v9QV\\rMes programmes ►https://bit.ly/2TDimHN\\rMa salle de sport ►http://bit.ly/2jaOdSO\\r\\rHARCÈLE-MOI sur : \\rTWITTER : http://bit.ly/1o88uUV\\rINSTAGRAM : http://bit.ly/1Q4RInr (tiboinshape)\\rSNAPCHAT : tiboinshape\\rTIKTOK : tiboinshape\\rFACEBOOK : http://on.fb.me/1EcbKme\\rDISCORD : http://discord.gg/teamshape\\rSPOTIFY : Tibo InShape - Motivation (playlist)\\rTWITCH : TiboInshapeLive\\r\\rMon adresse postale : \\rTibo Inshape\\rCS 52072\\r81012 ALBI CEDEX\\r\\rMon e-mail (business uniquement) ► tiboinshapevideo@gmail.com\\r\\rSi vous lisez cette phrase écrivez « DAAMN » en commentaire !\", 'channelTitle': 'Tibo InShape', 'tags': 'tibo inshape|teamshape|Parcours ninja warrior géant|tibo lebouseu|tibo lebouseuh|crouton tibo|tibo inshape crouton|lebouseuh crouton|ninja warrior tibo lebouseuh|parcours ninja warrior géant|parcours géant|ninja warrior|NINJA WARRIOR GÉANT', 'trending_date': DatetimeWithNanoseconds(2020, 8, 12, 0, 0, tzinfo=datetime.timezone.utc), 'comments_disabled': False, 'categoryId': 17, 'likes': 212304, 'publishedAt': DatetimeWithNanoseconds(2020, 8, 7, 16, 4, 37, tzinfo=datetime.timezone.utc), 'channelId': 'UCpWaR3gNAQGsX48cIlQC0qw', 'dislikes': 1863, 'title': 'NINJA WARRIOR GÉANT AVEC LEBOUSEUH !', 'view_count': 1820241, 'thumbnail_link': 'https://i.ytimg.com/vi/09HzMJTRN_k/default.jpg', 'video_id': '09HzMJTRN_k', 'ratings_disabled': False} \n",
      "\n",
      "0nyJHfK6qvg {'comment_count': 4977, 'description': \"Bernard 1m30 homme de petite taille nous présente sa journée Clique ici pour t'abonner ► http://bit.ly/1qAbjhL & rejoins la TeamShape !\\rMes vêtements TeamShape ► http://bit.ly/1wXqeD7 \\rMes compléments Inshape Nutrition ►https://bit.ly/2M9v9QV\\rMes programmes ►https://bit.ly/2TDimHN\\rMa salle de sport ►http://bit.ly/2jaOdSO\\rBernard @La vie ordinaire d'une personne de petite taille Insta : https://www.instagram.com/viepetitetaille/Twitch : https://www.twitch.tv/ooo_globule_ooo/\\rHARCÈLE-MOI sur : \\rTWITTER : http://bit.ly/1o88uUV\\rINSTAGRAM : http://bit.ly/1Q4RInr (tiboinshape)\\rSNAPCHAT : tiboinshape\\rTIKTOK : tiboinshape\\rFACEBOOK : http://on.fb.me/1EcbKme\\rDISCORD : http://discord.gg/teamshape\\rSPOTIFY : Tibo InShape - Motivation (playlist)\\rTWITCH : TiboInshapeLive\\r\\rMon adresse postale : \\rTibo Inshape\\rCS 52072\\r81012 ALBI CEDEX\\r\\rMon e-mail (business uniquement) ► tiboinshapevideo@gmail.com\\r\\rSi vous lisez cette phrase écrivez « DAAMN » en commentaire !\", 'channelTitle': 'Tibo InShape', 'tags': 'tibo inshape|teamshape|Vivre quand on fait 1m30|homme de petite taille|petite taille|homme 1mètre30|1m30|bernard tibo 1m30|homme petit|tibo inshape homme petit', 'trending_date': DatetimeWithNanoseconds(2021, 4, 21, 0, 0, tzinfo=datetime.timezone.utc), 'comments_disabled': False, 'categoryId': 24, 'likes': 142962, 'publishedAt': DatetimeWithNanoseconds(2021, 4, 16, 16, 0, 27, tzinfo=datetime.timezone.utc), 'channelId': 'UCpWaR3gNAQGsX48cIlQC0qw', 'dislikes': 1110, 'title': \"IL MESURE 1m30 ! (la vie d'un homme de petite taille)\", 'view_count': 1271134, 'thumbnail_link': 'https://i.ytimg.com/vi/0nyJHfK6qvg/default.jpg', 'video_id': '0nyJHfK6qvg', 'ratings_disabled': False} \n",
      "\n",
      "1fKnt6iAbvg {'comment_count': 3104, 'description': \"Je repasse le bac et le grand oral au lycée !S'abonner à digischool  ► https://bit.ly/3xpbAtuClique ici pour t'abonner ► http://bit.ly/1qAbjhL & rejoins la TeamShape !\\rMes vêtements TeamShape ► http://bit.ly/1wXqeD7 \\rMes compléments Inshape Nutrition ►https://bit.ly/2M9v9QV\\rMes programmes ►https://bit.ly/2TDimHN\\rMa salle de sport ►http://bit.ly/2jaOdSO\\rAccéder à superBac (web) : https://www.super-bac.com/?utm_source=youtube&utm_medium=desc&utm_campaign=tiboTélécharger l'appli iOS : https://apps.apple.com/fr/app/bac-2021-lyc%C3%A9e/id906303525Télécharger l'appli Android : https://play.google.com/store/apps/details?id=com.kreactive.digischool.bacChaîne Youtube superBac : https://www.youtube.com/c/SuperBacbydigiSchoolMerci au lycée François Marty à Monteilshttp://www.lyceefrancoismarty.fr\\rHARCÈLE-MOI sur : \\rTWITTER : http://bit.ly/1o88uUV\\rINSTAGRAM : http://bit.ly/1Q4RInr (tiboinshape)\\rSNAPCHAT : tiboinshape\\rTIKTOK : tiboinshape\\rFACEBOOK : http://on.fb.me/1EcbKme\\rDISCORD : http://discord.gg/teamshape\\rSPOTIFY : Tibo InShape - Motivation (playlist)\\rTWITCH : TiboInshapeLive\\r\\rMon adresse postale : \\rTibo Inshape\\rCS 52072\\r81012 ALBI CEDEX\\r\\rMon e-mail (business uniquement) ► tiboinshapevideo@gmail.com\\r\\rSi vous lisez cette phrase écrivez « DAAMN » en commentaire !\", 'tags': 'tibo inshape|teamshape|JE PASSE LE BAC|tibo inshape bac|tibo inshape passe le bac|lycée tibo inshape|bac tibo inshape|grand oral bac|bac terminal|révision bac|baccalauréat|je passe le baccalauréat|tibo inshape lycée|tibo lycée|bac lycée', 'channelTitle': 'Tibo InShape', 'trending_date': DatetimeWithNanoseconds(2021, 5, 1, 0, 0, tzinfo=datetime.timezone.utc), 'comments_disabled': False, 'categoryId': 24, 'likes': 59051, 'publishedAt': DatetimeWithNanoseconds(2021, 4, 27, 16, 0, 7, tzinfo=datetime.timezone.utc), 'channelId': 'UCpWaR3gNAQGsX48cIlQC0qw', 'dislikes': 605, 'title': \"JE REPASSE LE BAC AU LYCÉE !! (c'est compliqué)\", 'view_count': 789318, 'video_id': '1fKnt6iAbvg', 'thumbnail_link': 'https://i.ytimg.com/vi/1fKnt6iAbvg/default.jpg', 'ratings_disabled': False} \n",
      "\n",
      "5SSmhTAsuvE {'comment_count': 3365, 'description': \"Vincent géant de 2m22 nous présente son quotidien !Clique ici pour t'abonner ► http://bit.ly/1qAbjhL & rejoins la TeamShape !\\rMes vêtements TeamShape ► http://bit.ly/1wXqeD7 \\rMes compléments Inshape Nutrition ►https://bit.ly/2M9v9QV\\rMes programmes ►https://bit.ly/2TDimHN\\rMa salle de sport ►http://bit.ly/2jaOdSO\\rLien vincent :Instagram : vincent.pourchotSnapchat : Vince.pourchotTikTok : vincentpourchotHARCÈLE-MOI sur : \\rTWITTER : http://bit.ly/1o88uUV\\rINSTAGRAM : http://bit.ly/1Q4RInr (tiboinshape)\\rSNAPCHAT : tiboinshape\\rTIKTOK : tiboinshape\\rFACEBOOK : http://on.fb.me/1EcbKme\\rDISCORD : http://discord.gg/teamshape\\rSPOTIFY : Tibo InShape - Motivation (playlist)\\rTWITCH : TiboInshapeLive\\r\\rMon adresse postale : \\rTibo Inshape\\rCS 52072\\r81012 ALBI CEDEX\\r\\rMon e-mail (business uniquement) ► tiboinshapevideo@gmail.com\\r\\rSi vous lisez cette phrase écrivez « DAAMN » en commentaire !\", 'tags': 'tibo inshape|teamshape|2m22 géant|grande taille|tibo géant|tibo grande taille|tibo inshape géant|tibo muscu|fitness géant|Tibo inshape grande taille|2m22', 'channelTitle': 'Tibo InShape', 'trending_date': DatetimeWithNanoseconds(2021, 5, 17, 0, 0, tzinfo=datetime.timezone.utc), 'comments_disabled': False, 'categoryId': 24, 'likes': 118393, 'publishedAt': DatetimeWithNanoseconds(2021, 5, 11, 16, 0, 56, tzinfo=datetime.timezone.utc), 'channelId': 'UCpWaR3gNAQGsX48cIlQC0qw', 'dislikes': 1013, 'title': 'CE GÉANT MESURE 2m22 !!', 'view_count': 1524578, 'thumbnail_link': 'https://i.ytimg.com/vi/5SSmhTAsuvE/default.jpg', 'video_id': '5SSmhTAsuvE', 'ratings_disabled': False} \n",
      "\n"
     ]
    }
   ],
   "source": [
    "query_channel_fr = fr_youtube.where('channelId', '==', 'UCpWaR3gNAQGsX48cIlQC0qw').limit(5)\n",
    "docs_fr = query_channel_fr.stream()\n",
    "\n",
    "for doc in docs_fr:\n",
    "    print(doc.id, doc.to_dict(),'\\n')"
   ]
  },
  {
   "cell_type": "code",
   "execution_count": 11,
   "id": "717821dc",
   "metadata": {
    "scrolled": false
   },
   "outputs": [
    {
     "name": "stdout",
     "output_type": "stream",
     "text": [
      "-024Swollbc {'comment_count': 767, 'description': \"Today we actually send the P7 off to its new home! After multiple eBay mishaps (and the last time we use it to sell a bike) this chapter is finally over.Shoutout to Competitive Cyclist for sponsoring the original build. Shop somewhere with expert Gearheads that you can actually call on the phone! https://bit.ly/2EO2AYBCheck out Jared's Channel here: https://youtube.com/channel/UCYIHUs5CJnaxGidbYv-vuIQSee the original video here https://youtu.be/39fCKTCOg8ABerm Peak Jerseys https://cognativemtb.com/collections/seths-bike-hacks-collection/products/berm-peak-tech-jersey-tealWant us to review your unique mountain bike or outdoor product? https://www.sethsbikehacks.com/product-review/Check out our main channel https://youtube.com/c/sethsbikehacksFollow me on Instagram https://instagram.com/sethsbikehacksBerm Peak Merch https://cognativemtb.com/collections/seths-bike-hacks-collectionMusic in this video is from http://share.epidemicsound.com/trQSgand https://soundstripe.com?fpr=seth20#mountainbikingI'm also working on a long-term moonshot project: Building a free public bike park in the Asheville metro area. Join my Patreon and 100% of the proceeds go towards funding this. https://www.patreon.com/sethsbikehacksAdvertising disclosure: All of these videos contain products, logos, or mentions associated with Diamondback Bicycles. Whether or not the video itself was sponsored by Diamondback, they do support this channel, and by extension, every video on it.\", 'tags': 'do it yourself|diy|tools|home|backyard|mountain biking|cycling|outdoors', 'channelTitle': 'Berm Peak Express', 'trending_date': DatetimeWithNanoseconds(2021, 3, 8, 0, 0, tzinfo=datetime.timezone.utc), 'categoryId': 26, 'comments_disabled': False, 'likes': 14945, 'publishedAt': DatetimeWithNanoseconds(2021, 3, 3, 15, 0, tzinfo=datetime.timezone.utc), 'channelId': 'UCOpP5PqrzODWpFU961acUbg', 'dislikes': 78, 'title': 'We sold my bike for charity! Find out who got it and more', 'view_count': 215771, 'thumbnail_link': 'https://i.ytimg.com/vi/-024Swollbc/default.jpg', 'video_id': '-024Swollbc', 'ratings_disabled': False} \n",
      "\n",
      "-4sfXSHSxzA {'comment_count': 7485, 'description': 'He had no idea! Thank you guys so much for watching, make sure to LIKE the video and SUBSCRIBE!Thanks to ThePicnic.Collective for help with the date setup.@Brent Rivera @Ben Azelart @pierson @Jeremy Hutchins If you see this comment if you think Pierson or Kaylie is a better match for and why! Love you guys :)', 'tags': '[None]', 'channelTitle': 'Alexa Rivera', 'trending_date': DatetimeWithNanoseconds(2021, 1, 24, 0, 0, tzinfo=datetime.timezone.utc), 'comments_disabled': False, 'categoryId': 26, 'likes': 191312, 'publishedAt': DatetimeWithNanoseconds(2021, 1, 16, 21, 40, 4, tzinfo=datetime.timezone.utc), 'channelId': 'UCPpATKqmMV-CNRNWYaDUwiA', 'dislikes': 4793, 'title': 'SURPRISING BRENT WITH HIS TIKTOK CRUSH!!', 'view_count': 4152392, 'video_id': '-4sfXSHSxzA', 'thumbnail_link': 'https://i.ytimg.com/vi/-4sfXSHSxzA/default.jpg', 'ratings_disabled': False} \n",
      "\n",
      "-AJD1Fc5rpQ {'comment_count': 1602, 'description': 'I am so happy to tell you that I am pregnant!! This was such a surprise and we feel so blessed to be able to bring this baby into the world. Thank you so much for all the love!SOCIAL LINKS:Instagram-http://instagram.com/tesschristinexohttps://www.instagram.com/backyardroses/Patrick- https://www.instagram.com/mgm_patrick/Music by Zachary Friederich - Finally Found You [Instrumental] - https://thmatc.co/?l=60BECF31Music by Zachary Friederich - You Are Never Alone [Instrumental] - https://thmatc.co/?l=2D0ECD71Not sponsored.', 'channelTitle': 'Tess Christine', 'tags': '[None]', 'trending_date': DatetimeWithNanoseconds(2021, 1, 10, 0, 0, tzinfo=datetime.timezone.utc), 'categoryId': 26, 'comments_disabled': False, 'likes': 35331, 'publishedAt': DatetimeWithNanoseconds(2021, 1, 3, 21, 53, 48, tzinfo=datetime.timezone.utc), 'channelId': 'UCVsTboAhpnuL6j-tDePvNwQ', 'dislikes': 86, 'title': \"WE ARE HAVING A BABY! | finding out i'm pregnant, first ultrasounds & reactions\", 'view_count': 413369, 'thumbnail_link': 'https://i.ytimg.com/vi/-AJD1Fc5rpQ/default.jpg', 'video_id': '-AJD1Fc5rpQ', 'ratings_disabled': False} \n",
      "\n"
     ]
    }
   ],
   "source": [
    "query_channel_ca = ca_youtube.where('categoryId', '==', 26).limit(3)\n",
    "docs_ca = query_channel_ca.stream()\n",
    "\n",
    "for doc in docs_ca:\n",
    "    print(doc.id, doc.to_dict(),'\\n')"
   ]
  },
  {
   "cell_type": "markdown",
   "id": "30d52290",
   "metadata": {},
   "source": [
    "## Data Processing using Pyspark"
   ]
  },
  {
   "cell_type": "code",
   "execution_count": 12,
   "id": "467cf14a",
   "metadata": {},
   "outputs": [],
   "source": [
    "#defining the schema\n",
    "\n",
    "df_schema = StructType([StructField(\"video_id\", StringType(), True),\n",
    "                       StructField(\"title\", StringType(), True),\n",
    "                       StructField(\"publishedAt\", StringType(), True),\n",
    "                       StructField(\"channelId\", StringType(), True),\n",
    "                       StructField(\"channelTitle\", StringType(), True),\n",
    "                       StructField(\"categoryId\", IntegerType(), True),\n",
    "                       StructField(\"trending_date\", StringType(), True),\n",
    "                       StructField(\"tags\", StringType(), True),\n",
    "                       StructField(\"view_count\", IntegerType(), True),\n",
    "                       StructField(\"likes\", IntegerType(), True),\n",
    "                       StructField(\"dislikes\", IntegerType(), True),\n",
    "                       StructField(\"comment_count\", IntegerType(), True),\n",
    "                       StructField(\"thumbnail_link\", StringType(), True),\n",
    "                       StructField(\"comments_disabled\", BooleanType(), True),\n",
    "                       StructField(\"ratings_disabled\", BooleanType(), True),\n",
    "                       StructField(\"description\", StringType(), True)])"
   ]
  },
  {
   "cell_type": "code",
   "execution_count": 13,
   "id": "798a9945",
   "metadata": {},
   "outputs": [],
   "source": [
    "#load the datasets\n",
    "\n",
    "df_br = spark.read.csv('Data/BR_youtube_trending_data.csv', schema = df_schema, header=True)\n",
    "df_ca = spark.read.csv('Data/CA_youtube_trending_data.csv', schema = df_schema, header=True)\n",
    "df_de = spark.read.csv('Data/DE_youtube_trending_data.csv', schema = df_schema, header=True)\n",
    "df_fr = spark.read.csv('Data/FR_youtube_trending_data.csv', schema = df_schema, header=True)\n",
    "df_gb = spark.read.csv('Data/GB_youtube_trending_data.csv', schema = df_schema, header=True)\n",
    "df_in = spark.read.csv('Data/IN_youtube_trending_data.csv', schema = df_schema, header=True)\n",
    "df_jp = spark.read.csv('Data/JP_youtube_trending_data.csv', schema = df_schema, header=True)\n",
    "df_kr = spark.read.csv('Data/KR_youtube_trending_data.csv', schema = df_schema, header=True)\n",
    "df_mx = spark.read.csv('Data/MX_youtube_trending_data.csv', schema = df_schema, header=True)\n",
    "df_ru = spark.read.csv('Data/RU_youtube_trending_data.csv', schema = df_schema, header=True)\n",
    "df_us = spark.read.csv('Data/US_youtube_trending_data.csv', schema = df_schema, header=True)"
   ]
  },
  {
   "cell_type": "code",
   "execution_count": 14,
   "id": "5f49e60d",
   "metadata": {},
   "outputs": [],
   "source": [
    "#defining the column country\n",
    "\n",
    "df_br = df_br.withColumn(\"Country\", F.lit('BR'))\n",
    "df_ca = df_ca.withColumn(\"Country\", F.lit('CA'))\n",
    "df_de = df_de.withColumn(\"Country\", F.lit('DE'))\n",
    "df_fr = df_fr.withColumn(\"Country\", F.lit('DE'))\n",
    "df_gb = df_gb.withColumn(\"Country\", F.lit('GB'))\n",
    "df_in = df_in.withColumn(\"Country\", F.lit('IN'))\n",
    "df_jp = df_jp.withColumn(\"Country\", F.lit('JP'))\n",
    "df_kr = df_kr.withColumn(\"Country\", F.lit('KR'))\n",
    "df_mx = df_de.withColumn(\"Country\", F.lit('MX'))\n",
    "df_ru = df_ru.withColumn(\"Country\", F.lit('RU'))\n",
    "df_us = df_us.withColumn(\"Country\", F.lit('US'))\n"
   ]
  },
  {
   "cell_type": "code",
   "execution_count": 15,
   "id": "94295ca8",
   "metadata": {},
   "outputs": [],
   "source": [
    "#remove duplicates\n",
    "\n",
    "df_br = df_br.drop_duplicates(subset=['video_id'])\n",
    "df_ca = df_ca.drop_duplicates(subset=['video_id'])\n",
    "df_de = df_de.drop_duplicates(subset=['video_id'])\n",
    "df_fr = df_fr.drop_duplicates(subset=['video_id'])\n",
    "df_gb = df_gb.drop_duplicates(subset=['video_id'])\n",
    "df_in = df_in.drop_duplicates(subset=['video_id'])\n",
    "df_jp = df_jp.drop_duplicates(subset=['video_id'])\n",
    "df_kr = df_kr.drop_duplicates(subset=['video_id'])\n",
    "df_mx = df_mx.drop_duplicates(subset=['video_id'])\n",
    "df_ru = df_ru.drop_duplicates(subset=['video_id'])\n",
    "df_us = df_us.drop_duplicates(subset=['video_id'])"
   ]
  },
  {
   "cell_type": "code",
   "execution_count": 16,
   "id": "a8f351ca",
   "metadata": {},
   "outputs": [],
   "source": [
    "# create merged dataframe\n",
    "\n",
    "df_list=[df_br,df_ca,df_de,df_fr,df_gb,df_in,df_jp,df_kr,df_mx,df_ru,df_us]\n",
    "df_final = reduce(DataFrame.unionAll, df_list)"
   ]
  },
  {
   "cell_type": "code",
   "execution_count": 17,
   "id": "56bd0a13",
   "metadata": {},
   "outputs": [
    {
     "name": "stderr",
     "output_type": "stream",
     "text": [
      "[Stage 10:==================================================>       (7 + 1) / 8]\r"
     ]
    }
   ],
   "source": [
    "#create rdd\n",
    "\n",
    "rdd_1 = df_final.rdd"
   ]
  },
  {
   "cell_type": "code",
   "execution_count": 18,
   "id": "e3953db4",
   "metadata": {
    "scrolled": true
   },
   "outputs": [
    {
     "data": {
      "text/plain": [
       "12"
      ]
     },
     "execution_count": 18,
     "metadata": {},
     "output_type": "execute_result"
    }
   ],
   "source": [
    "#check the number of Partitions\n",
    "\n",
    "rdd_1.getNumPartitions()"
   ]
  },
  {
   "cell_type": "markdown",
   "id": "d6172ab1",
   "metadata": {},
   "source": [
    "###### MapReduce to count the most trend Category (id) per country"
   ]
  },
  {
   "cell_type": "code",
   "execution_count": 19,
   "id": "6341be16",
   "metadata": {},
   "outputs": [],
   "source": [
    "def map_catID(doc):\n",
    "    return (doc.Country, doc.categoryId),1"
   ]
  },
  {
   "cell_type": "code",
   "execution_count": 20,
   "id": "288a6ab8",
   "metadata": {},
   "outputs": [],
   "source": [
    "map_catid = rdd_1.map(map_catID)"
   ]
  },
  {
   "cell_type": "code",
   "execution_count": 21,
   "id": "460eae80",
   "metadata": {
    "scrolled": true
   },
   "outputs": [
    {
     "name": "stderr",
     "output_type": "stream",
     "text": [
      "                                                                                \r"
     ]
    }
   ],
   "source": [
    "red_catid = map_catid.reduceByKey(add)\n",
    "red_catid_sorted = red_catid.sortBy(lambda x: x[1], ascending = False)"
   ]
  },
  {
   "cell_type": "code",
   "execution_count": 22,
   "id": "069f6d9b",
   "metadata": {},
   "outputs": [
    {
     "name": "stderr",
     "output_type": "stream",
     "text": [
      "                                                                                \r"
     ]
    },
    {
     "data": {
      "text/plain": [
       "[(('IN', 24), 20329),\n",
       " (('DE', 24), 18053),\n",
       " (('RU', 22), 15356),\n",
       " (('RU', 25), 14525),\n",
       " (('RU', 24), 13594),\n",
       " (('RU', 20), 12852),\n",
       " (('DE', 10), 12316),\n",
       " (('MX', 24), 9632),\n",
       " (('DE', 17), 9089),\n",
       " (('DE', 20), 8808)]"
      ]
     },
     "execution_count": 22,
     "metadata": {},
     "output_type": "execute_result"
    }
   ],
   "source": [
    "red_catid_sorted.filter(lambda x: x[0][1] != None).take(10)"
   ]
  },
  {
   "cell_type": "markdown",
   "id": "dd7f146f",
   "metadata": {},
   "source": [
    "###### MapReduce to check the most trend channel per country"
   ]
  },
  {
   "cell_type": "code",
   "execution_count": 23,
   "id": "379cdee2",
   "metadata": {},
   "outputs": [],
   "source": [
    "def map_channel_country(doc):\n",
    "    return (doc.Country, doc.channelId),1"
   ]
  },
  {
   "cell_type": "code",
   "execution_count": 24,
   "id": "bb0dc346",
   "metadata": {},
   "outputs": [],
   "source": [
    "map_channel_country = rdd_1.map(map_channel_country)"
   ]
  },
  {
   "cell_type": "code",
   "execution_count": 25,
   "id": "6b64ac19",
   "metadata": {
    "scrolled": false
   },
   "outputs": [
    {
     "name": "stderr",
     "output_type": "stream",
     "text": [
      "                                                                                \r"
     ]
    }
   ],
   "source": [
    "red_channel_country = map_channel_country.reduceByKey(add)\n",
    "red_channel_country_sorted = red_channel_country.sortBy(lambda x: x[1], ascending = False)"
   ]
  },
  {
   "cell_type": "code",
   "execution_count": 26,
   "id": "2d690774",
   "metadata": {},
   "outputs": [
    {
     "name": "stderr",
     "output_type": "stream",
     "text": [
      "                                                                                \r"
     ]
    },
    {
     "data": {
      "text/plain": [
       "[(('IN', 'UCvrhwpnp2DHYQ1CbXby9ypQ'), 1080),\n",
       " (('RU', 'UCdubelOloxR3wzwJG9x8YqQ'), 1034),\n",
       " (('RU', 'UCtetJiD_llxdGL4Uh5-Oe2w'), 971),\n",
       " (('RU', 'UC_IEcnNeHc_bwd92Ber-lew'), 879),\n",
       " (('IN', 'UC55IWqFLDH1Xp7iu1_xknRA'), 875)]"
      ]
     },
     "execution_count": 26,
     "metadata": {},
     "output_type": "execute_result"
    }
   ],
   "source": [
    "red_channel_country_sorted.filter(lambda x: x[0][1] != None).take(5)"
   ]
  },
  {
   "cell_type": "markdown",
   "id": "8bc9bea4",
   "metadata": {},
   "source": [
    "###### MapReduce to count country with the most videos with enable or disable comments"
   ]
  },
  {
   "cell_type": "code",
   "execution_count": 27,
   "id": "f6782d65",
   "metadata": {},
   "outputs": [],
   "source": [
    "def map_comm_dis(doc):\n",
    "    return (doc.comments_disabled, doc.Country),1"
   ]
  },
  {
   "cell_type": "code",
   "execution_count": 28,
   "id": "9c71d6b8",
   "metadata": {},
   "outputs": [],
   "source": [
    "map_com_disabled = rdd_1.map(map_comm_dis)"
   ]
  },
  {
   "cell_type": "code",
   "execution_count": 29,
   "id": "6f89df3f",
   "metadata": {},
   "outputs": [
    {
     "name": "stderr",
     "output_type": "stream",
     "text": [
      "                                                                                \r"
     ]
    },
    {
     "data": {
      "text/plain": [
       "[((False, 'RU'), 93485),\n",
       " ((False, 'DE'), 71817),\n",
       " ((False, 'IN'), 49159),\n",
       " ((False, 'MX'), 36806),\n",
       " ((False, 'CA'), 33186)]"
      ]
     },
     "execution_count": 29,
     "metadata": {},
     "output_type": "execute_result"
    }
   ],
   "source": [
    "red_com_disabled = map_com_disabled.reduceByKey(add)\n",
    "red_com_disabled_sort = red_com_disabled.sortBy(lambda x: x[1], ascending = False)\n",
    "red_com_disabled_sort.filter(lambda x: x[0][0] != None).take(5)"
   ]
  },
  {
   "cell_type": "markdown",
   "id": "88cfa1de",
   "metadata": {},
   "source": [
    "###### Table which indicates the number of views, likes, dislikes, comments per Country"
   ]
  },
  {
   "cell_type": "code",
   "execution_count": 30,
   "id": "6412df6f",
   "metadata": {
    "scrolled": false
   },
   "outputs": [
    {
     "name": "stderr",
     "output_type": "stream",
     "text": [
      "                                                                                \r"
     ]
    },
    {
     "name": "stdout",
     "output_type": "stream",
     "text": [
      "+-------+---------------+----------+-------------+------------------+\n",
      "|Country|sum(view_count)|sum(likes)|sum(dislikes)|sum(comment_count)|\n",
      "+-------+---------------+----------+-------------+------------------+\n",
      "|     IN|    69462114998|4374196550|     58831884|         247455810|\n",
      "|     DE|    52597034287|3962576919|     44909401|         312006449|\n",
      "|     RU|    43055977012|3103407676|     45662577|         263831828|\n",
      "|     CA|    43889266221|2913384867|     31574712|         222671450|\n",
      "|     US|    38796747821|2628114968|     26432989|         224045323|\n",
      "+-------+---------------+----------+-------------+------------------+\n",
      "only showing top 5 rows\n",
      "\n"
     ]
    }
   ],
   "source": [
    "df_country_sum = df_final.groupBy('Country').sum('view_count','likes','dislikes','comment_count')\n",
    "df_country_sum.sort('sum(likes)', ascending = False).show(5)"
   ]
  },
  {
   "cell_type": "markdown",
   "id": "ae125707",
   "metadata": {},
   "source": [
    "###### Table which indicates the number of views, likes, dislikes, comments per Channel (id) and Country"
   ]
  },
  {
   "cell_type": "code",
   "execution_count": 31,
   "id": "d771bf52",
   "metadata": {
    "scrolled": true
   },
   "outputs": [
    {
     "name": "stderr",
     "output_type": "stream",
     "text": [
      "                                                                                \r"
     ]
    },
    {
     "name": "stdout",
     "output_type": "stream",
     "text": [
      "+--------------------+-------+---------------+----------+-------------+------------------+\n",
      "|           channelId|Country|sum(view_count)|sum(likes)|sum(dislikes)|sum(comment_count)|\n",
      "+--------------------+-------+---------------+----------+-------------+------------------+\n",
      "|UCvrhwpnp2DHYQ1Cb...|     IN|     2494103118|  56203903|       836171|           3278101|\n",
      "|UC2tsySbe9TNrI-xh...|     RU|     2456068608| 231489478|      2451157|          22352959|\n",
      "|UCjvgGbPPn-FgYegu...|     IN|     1760404975| 208005102|       743791|           9819487|\n",
      "|UCq-Fj5jknLsUf-MW...|     IN|     1397174562|  59900874|      1391377|           4565773|\n",
      "|UC3IZKseVpdzPSBaW...|     DE|     1365604069| 214119724|      1078270|          41323669|\n",
      "+--------------------+-------+---------------+----------+-------------+------------------+\n",
      "only showing top 5 rows\n",
      "\n"
     ]
    }
   ],
   "source": [
    "df_channel_sum = df_final.groupBy('channelId', 'Country').sum('view_count','likes','dislikes','comment_count')\n",
    "df_channel_sum.sort('sum(view_count)', ascending = False).show(5)"
   ]
  },
  {
   "cell_type": "markdown",
   "id": "aaff1961",
   "metadata": {},
   "source": [
    "###### Table which indicates the number of views, likes, dislikes, comments per Category (id) and Country"
   ]
  },
  {
   "cell_type": "code",
   "execution_count": 32,
   "id": "8aa13b5d",
   "metadata": {},
   "outputs": [
    {
     "name": "stderr",
     "output_type": "stream",
     "text": [
      "[Stage 239:=============================================>         (10 + 2) / 12]\r"
     ]
    },
    {
     "name": "stdout",
     "output_type": "stream",
     "text": [
      "+----------+-------+---------------+----------+-------------+------------------+\n",
      "|categoryId|Country|sum(view_count)|sum(likes)|sum(dislikes)|sum(comment_count)|\n",
      "+----------+-------+---------------+----------+-------------+------------------+\n",
      "|        24|     IN|    27885795778|1258905006|     22753227|          49500893|\n",
      "|        10|     DE|    15239833993|1688034800|     16114672|         179411959|\n",
      "|        24|     DE|    12270879172| 886624677|      9924673|          48812567|\n",
      "|        10|     IN|    11466029224| 881128529|     11555758|         105238555|\n",
      "|        24|     CA|    10809602611| 680482384|      7103991|          39725081|\n",
      "+----------+-------+---------------+----------+-------------+------------------+\n",
      "only showing top 5 rows\n",
      "\n"
     ]
    },
    {
     "name": "stderr",
     "output_type": "stream",
     "text": [
      "\r",
      "                                                                                \r"
     ]
    }
   ],
   "source": [
    "df_ca_country = df_final.groupBy('categoryId', 'Country').sum('view_count','likes','dislikes','comment_count')\n",
    "df_ca_country.sort('sum(view_count)', ascending = False).show(5)"
   ]
  },
  {
   "cell_type": "markdown",
   "id": "9edb99ca",
   "metadata": {},
   "source": [
    "###### Table which indicates the number of  likes per Video ID and Country"
   ]
  },
  {
   "cell_type": "code",
   "execution_count": 33,
   "id": "232c32e0",
   "metadata": {
    "scrolled": true
   },
   "outputs": [
    {
     "name": "stderr",
     "output_type": "stream",
     "text": [
      "                                                                                \r"
     ]
    },
    {
     "name": "stdout",
     "output_type": "stream",
     "text": [
      "+-----------+-------+----------+\n",
      "|   video_id|Country|sum(likes)|\n",
      "+-----------+-------+----------+\n",
      "|WMweEpGlu_U|     DE|  14220580|\n",
      "|gdZLi9oWNZg|     DE|  14092995|\n",
      "|vRXZj0DzXIA|     DE|  11826498|\n",
      "|-5q5mZbe3V8|     DE|  10356907|\n",
      "|YLXfyHsfFz0|     DE|   9500556|\n",
      "+-----------+-------+----------+\n",
      "only showing top 5 rows\n",
      "\n"
     ]
    }
   ],
   "source": [
    "df_vid_country_likes = df_final.groupBy('video_id', 'Country').sum('likes')\n",
    "df_vid_country_likes.sort('sum(likes)', ascending = False).show(5)"
   ]
  },
  {
   "cell_type": "markdown",
   "id": "c13587d2",
   "metadata": {},
   "source": [
    "###### Table which indicates the number of  comments per Video ID and Country"
   ]
  },
  {
   "cell_type": "code",
   "execution_count": 34,
   "id": "b68a2aa8",
   "metadata": {},
   "outputs": [
    {
     "name": "stderr",
     "output_type": "stream",
     "text": [
      "                                                                                \r"
     ]
    },
    {
     "name": "stdout",
     "output_type": "stream",
     "text": [
      "+-----------+-------+------------------+\n",
      "|   video_id|Country|sum(comment_count)|\n",
      "+-----------+-------+------------------+\n",
      "|WMweEpGlu_U|     DE|           6803532|\n",
      "|gdZLi9oWNZg|     DE|           4628386|\n",
      "|-5q5mZbe3V8|     DE|           4555342|\n",
      "|vRXZj0DzXIA|     DE|           3696069|\n",
      "|WMweEpGlu_U|     RU|           3403157|\n",
      "+-----------+-------+------------------+\n",
      "only showing top 5 rows\n",
      "\n"
     ]
    }
   ],
   "source": [
    "df_vid_country_comm = df_final.groupBy('video_id', 'Country').sum('comment_count')\n",
    "df_vid_country_comm.sort('sum(comment_count)', ascending = False).show(5)"
   ]
  },
  {
   "cell_type": "markdown",
   "id": "d26184bd",
   "metadata": {},
   "source": [
    "###### Table which indicates the number of  dislikes per Video ID and Country"
   ]
  },
  {
   "cell_type": "code",
   "execution_count": 35,
   "id": "f722acdf",
   "metadata": {
    "scrolled": false
   },
   "outputs": [
    {
     "name": "stderr",
     "output_type": "stream",
     "text": [
      "[Stage 360:==========================================>              (6 + 2) / 8]\r"
     ]
    },
    {
     "name": "stdout",
     "output_type": "stream",
     "text": [
      "+-----------+-------+-------------+\n",
      "|   video_id|Country|sum(dislikes)|\n",
      "+-----------+-------+-------------+\n",
      "|Iot0eF6EoNA|     IN|      3979409|\n",
      "|OExRBGfhLKc|     IN|       968263|\n",
      "|vRXZj0DzXIA|     DE|       810791|\n",
      "|hsm4poTWjMs|     DE|       765164|\n",
      "|vRXZj0DzXIA|     JP|       592604|\n",
      "+-----------+-------+-------------+\n",
      "only showing top 5 rows\n",
      "\n"
     ]
    },
    {
     "name": "stderr",
     "output_type": "stream",
     "text": [
      "\r",
      "                                                                                \r"
     ]
    }
   ],
   "source": [
    "df_vid_country_dis = df_final.groupBy('video_id', 'Country').sum('dislikes')\n",
    "df_vid_country_dis.sort('sum(dislikes)', ascending = False).show(5)"
   ]
  },
  {
   "cell_type": "code",
   "execution_count": 36,
   "id": "8878e07b",
   "metadata": {},
   "outputs": [],
   "source": [
    "#change the two columns from string to timestamp\n",
    "df_final = df_final.withColumn(\"publishedAt\",to_timestamp(\"publishedAt\"))\n",
    "df_final = df_final.withColumn(\"trending_date\",to_timestamp(\"trending_date\"))"
   ]
  },
  {
   "cell_type": "markdown",
   "id": "a7831abb",
   "metadata": {},
   "source": [
    "###### Table which indicates the number of  views, likes, dislikes, comments per the day and the Country"
   ]
  },
  {
   "cell_type": "code",
   "execution_count": 37,
   "id": "8241db5d",
   "metadata": {},
   "outputs": [
    {
     "name": "stderr",
     "output_type": "stream",
     "text": [
      "[Stage 396:>                                                        (0 + 8) / 8]\r"
     ]
    },
    {
     "name": "stdout",
     "output_type": "stream",
     "text": [
      "+-------------------+-------+---------------+----------+-------------+------------------+\n",
      "|        publishedAt|Country|sum(view_count)|sum(likes)|sum(dislikes)|sum(comment_count)|\n",
      "+-------------------+-------+---------------+----------+-------------+------------------+\n",
      "|2021-02-02 15:25:20|     DE|      154318692|     96606|        10890|             14532|\n",
      "|2020-08-07 07:00:10|     DE|      153610052|   5640727|       765164|            540526|\n",
      "|2021-05-21 06:46:13|     DE|      134223504|  14220580|        17996|           6803532|\n",
      "|2022-03-02 23:00:27|     MX|      132114269|   5043423|            0|              4312|\n",
      "|2022-03-02 23:00:27|     DE|      132114269|   5043423|            0|              4312|\n",
      "+-------------------+-------+---------------+----------+-------------+------------------+\n",
      "only showing top 5 rows\n",
      "\n"
     ]
    },
    {
     "name": "stderr",
     "output_type": "stream",
     "text": [
      "\r",
      "                                                                                \r"
     ]
    }
   ],
   "source": [
    "df_day_country = df_final.groupBy('publishedAt', 'Country').sum('view_count','likes','dislikes','comment_count')\n",
    "df_day_country.sort('sum(view_count)', ascending = False).show(5)"
   ]
  },
  {
   "cell_type": "code",
   "execution_count": null,
   "id": "883a520b",
   "metadata": {},
   "outputs": [],
   "source": []
  },
  {
   "cell_type": "code",
   "execution_count": null,
   "id": "35abc363",
   "metadata": {},
   "outputs": [],
   "source": []
  },
  {
   "cell_type": "code",
   "execution_count": null,
   "id": "e444419a",
   "metadata": {},
   "outputs": [],
   "source": []
  }
 ],
 "metadata": {
  "kernelspec": {
   "display_name": "Python 3 (ipykernel)",
   "language": "python",
   "name": "python3"
  },
  "language_info": {
   "codemirror_mode": {
    "name": "ipython",
    "version": 3
   },
   "file_extension": ".py",
   "mimetype": "text/x-python",
   "name": "python",
   "nbconvert_exporter": "python",
   "pygments_lexer": "ipython3",
   "version": "3.9.7"
  }
 },
 "nbformat": 4,
 "nbformat_minor": 5
}
