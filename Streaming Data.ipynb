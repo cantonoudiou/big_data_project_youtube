{
 "cells": [
  {
   "cell_type": "markdown",
   "id": "b68f095e",
   "metadata": {},
   "source": [
    "# Streaming Data"
   ]
  },
  {
   "cell_type": "code",
   "execution_count": 1,
   "id": "858019fd",
   "metadata": {},
   "outputs": [],
   "source": [
    "import pyspark\n",
    "from pyspark.sql import SparkSession\n",
    "from pyspark.context import SparkContext, SparkConf\n",
    "from pyspark.sql.types import *\n",
    "from pyspark.sql.functions import *\n",
    "\n",
    "from operator import add\n",
    "from pyspark.sql import functions as F\n",
    "\n",
    "from functools import reduce\n",
    "from pyspark.sql import DataFrame\n",
    "\n",
    "import os\n",
    "import sys\n",
    "\n",
    "os.environ['PYSPARK_PYTHON'] = sys.executable\n",
    "os.environ['PYSPARK_DRIVER_PYTHON'] = sys.executable"
   ]
  },
  {
   "cell_type": "code",
   "execution_count": 2,
   "id": "8ed5babc",
   "metadata": {},
   "outputs": [
    {
     "name": "stdout",
     "output_type": "stream",
     "text": [
      "23/01/18 16:36:15 WARN Utils: Your hostname, Christoss-MacBook-Air.local resolves to a loopback address: 127.0.0.1; using 192.168.10.11 instead (on interface en0)\n",
      "23/01/18 16:36:15 WARN Utils: Set SPARK_LOCAL_IP if you need to bind to another address\n"
     ]
    },
    {
     "name": "stderr",
     "output_type": "stream",
     "text": [
      "Setting default log level to \"WARN\".\n",
      "To adjust logging level use sc.setLogLevel(newLevel). For SparkR, use setLogLevel(newLevel).\n"
     ]
    },
    {
     "name": "stdout",
     "output_type": "stream",
     "text": [
      "23/01/18 16:36:15 WARN NativeCodeLoader: Unable to load native-hadoop library for your platform... using builtin-java classes where applicable\n"
     ]
    }
   ],
   "source": [
    "conf = SparkConf().setAppName('learning-pyspark').setMaster('local[*]') \n",
    "sc = SparkContext.getOrCreate(conf)\n",
    "\n",
    "spark = SparkSession(sc)"
   ]
  },
  {
   "cell_type": "code",
   "execution_count": 3,
   "id": "e7eb4dbe",
   "metadata": {},
   "outputs": [],
   "source": [
    "#load the data\n",
    "\n",
    "#defining the schema\n",
    "df_schema = StructType([StructField(\"video_id\", StringType(), True),\n",
    "                       StructField(\"title\", StringType(), True),\n",
    "                       StructField(\"publishedAt\", StringType(), True),\n",
    "                       StructField(\"channelId\", StringType(), True),\n",
    "                       StructField(\"channelTitle\", StringType(), True),\n",
    "                       StructField(\"categoryId\", IntegerType(), True),\n",
    "                       StructField(\"trending_date\", StringType(), True),\n",
    "                       StructField(\"tags\", StringType(), True),\n",
    "                       StructField(\"view_count\", IntegerType(), True),\n",
    "                       StructField(\"likes\", IntegerType(), True),\n",
    "                       StructField(\"dislikes\", IntegerType(), True),\n",
    "                       StructField(\"comment_count\", IntegerType(), True),\n",
    "                       StructField(\"thumbnail_link\", StringType(), True),\n",
    "                       StructField(\"comments_disabled\", BooleanType(), True),\n",
    "                       StructField(\"ratings_disabled\", BooleanType(), True),\n",
    "                       StructField(\"description\", StringType(), True)])\n",
    "\n",
    "#load the datasets\n",
    "df_br = spark.read.csv('Data/BR_youtube_trending_data.csv', schema = df_schema, header=True)\n",
    "df_ca = spark.read.csv('Data/CA_youtube_trending_data.csv', schema = df_schema, header=True)\n",
    "df_de = spark.read.csv('Data/DE_youtube_trending_data.csv', schema = df_schema, header=True)\n",
    "df_fr = spark.read.csv('Data/FR_youtube_trending_data.csv', schema = df_schema, header=True)\n",
    "df_gb = spark.read.csv('Data/GB_youtube_trending_data.csv', schema = df_schema, header=True)\n",
    "df_in = spark.read.csv('Data/IN_youtube_trending_data.csv', schema = df_schema, header=True)\n",
    "df_jp = spark.read.csv('Data/JP_youtube_trending_data.csv', schema = df_schema, header=True)\n",
    "df_kr = spark.read.csv('Data/KR_youtube_trending_data.csv', schema = df_schema, header=True)\n",
    "df_mx = spark.read.csv('Data/MX_youtube_trending_data.csv', schema = df_schema, header=True)\n",
    "df_ru = spark.read.csv('Data/RU_youtube_trending_data.csv', schema = df_schema, header=True)\n",
    "df_us = spark.read.csv('Data/US_youtube_trending_data.csv', schema = df_schema, header=True)\n",
    "\n",
    "#defining the column country\n",
    "df_br = df_br.withColumn(\"Country\", F.lit('BR'))\n",
    "df_ca = df_ca.withColumn(\"Country\", F.lit('CA'))\n",
    "df_de = df_de.withColumn(\"Country\", F.lit('DE'))\n",
    "df_fr = df_fr.withColumn(\"Country\", F.lit('DE'))\n",
    "df_gb = df_gb.withColumn(\"Country\", F.lit('GB'))\n",
    "df_in = df_in.withColumn(\"Country\", F.lit('IN'))\n",
    "df_jp = df_jp.withColumn(\"Country\", F.lit('JP'))\n",
    "df_kr = df_kr.withColumn(\"Country\", F.lit('KR'))\n",
    "df_mx = df_de.withColumn(\"Country\", F.lit('MX'))\n",
    "df_ru = df_ru.withColumn(\"Country\", F.lit('RU'))\n",
    "df_us = df_us.withColumn(\"Country\", F.lit('US'))\n",
    "\n",
    "# create merged dataframe\n",
    "df_list=[df_br,df_ca,df_de,df_fr,df_gb,df_in,df_jp,df_kr,df_mx,df_ru,df_us]\n",
    "df_final = reduce(DataFrame.unionAll, df_list)"
   ]
  },
  {
   "cell_type": "code",
   "execution_count": 4,
   "id": "7c6068c3",
   "metadata": {
    "scrolled": true
   },
   "outputs": [
    {
     "name": "stdout",
     "output_type": "stream",
     "text": [
      "root\n",
      " |-- video_id: string (nullable = true)\n",
      " |-- title: string (nullable = true)\n",
      " |-- publishedAt: string (nullable = true)\n",
      " |-- channelId: string (nullable = true)\n",
      " |-- channelTitle: string (nullable = true)\n",
      " |-- categoryId: integer (nullable = true)\n",
      " |-- trending_date: string (nullable = true)\n",
      " |-- tags: string (nullable = true)\n",
      " |-- view_count: integer (nullable = true)\n",
      " |-- likes: integer (nullable = true)\n",
      " |-- dislikes: integer (nullable = true)\n",
      " |-- comment_count: integer (nullable = true)\n",
      " |-- thumbnail_link: string (nullable = true)\n",
      " |-- comments_disabled: boolean (nullable = true)\n",
      " |-- ratings_disabled: boolean (nullable = true)\n",
      " |-- description: string (nullable = true)\n",
      " |-- Country: string (nullable = false)\n",
      "\n"
     ]
    }
   ],
   "source": [
    "df_fr.printSchema()"
   ]
  },
  {
   "cell_type": "markdown",
   "id": "5bab68b9",
   "metadata": {},
   "source": [
    "I will work only with a subset of the data and I have randomly selected the videos from France"
   ]
  },
  {
   "cell_type": "code",
   "execution_count": 5,
   "id": "0cdda824",
   "metadata": {},
   "outputs": [],
   "source": [
    "#change the types\n",
    "\n",
    "df_fr = df_fr.withColumn(\"publishedAt\",to_timestamp(\"publishedAt\"))\n",
    "df_fr = df_fr.withColumn(\"trending_date\",to_timestamp(\"trending_date\"))"
   ]
  },
  {
   "cell_type": "code",
   "execution_count": 6,
   "id": "aa8860c0",
   "metadata": {},
   "outputs": [],
   "source": [
    "df_fr = df_fr.withColumn(\"published_date\", F.to_date(\"publishedAt\"))"
   ]
  },
  {
   "cell_type": "code",
   "execution_count": 7,
   "id": "3eeef5b5",
   "metadata": {},
   "outputs": [],
   "source": [
    "df_fr = df_fr.sort('published_date')"
   ]
  },
  {
   "cell_type": "code",
   "execution_count": 8,
   "id": "2b8bdc58",
   "metadata": {},
   "outputs": [],
   "source": [
    "#removing na values from the column 'published_date'\n",
    "\n",
    "df_fr = df_fr.dropna(subset=['published_date'])"
   ]
  },
  {
   "cell_type": "code",
   "execution_count": 9,
   "id": "e33f47e6",
   "metadata": {},
   "outputs": [],
   "source": [
    "#drop duplicates\n",
    "\n",
    "df_fr = df_fr.drop_duplicates(subset=['video_id'])"
   ]
  },
  {
   "cell_type": "code",
   "execution_count": 10,
   "id": "0495879f",
   "metadata": {},
   "outputs": [
    {
     "name": "stderr",
     "output_type": "stream",
     "text": [
      "[Stage 3:>                                                          (0 + 1) / 1]\r"
     ]
    },
    {
     "name": "stdout",
     "output_type": "stream",
     "text": [
      "+--------------+\n",
      "|published_date|\n",
      "+--------------+\n",
      "|             0|\n",
      "+--------------+\n",
      "\n"
     ]
    },
    {
     "name": "stderr",
     "output_type": "stream",
     "text": [
      "\r",
      "                                                                                \r"
     ]
    }
   ],
   "source": [
    "#Count of Null of 'published_date' Column\n",
    "from pyspark.sql.functions import col,isnan, when, count\n",
    "df_fr.select([count(when(col('published_date').isNull(), 'published_date'))\\\n",
    "              .alias('published_date')]\n",
    "            ).show()\n"
   ]
  },
  {
   "cell_type": "code",
   "execution_count": 11,
   "id": "9055ab62",
   "metadata": {},
   "outputs": [
    {
     "name": "stderr",
     "output_type": "stream",
     "text": [
      "                                                                                \r"
     ]
    }
   ],
   "source": [
    "days = df_fr.select('published_date').distinct().collect()\n",
    "\n",
    "#sort the days\n",
    "days_sorted = sorted(days)"
   ]
  },
  {
   "cell_type": "code",
   "execution_count": 12,
   "id": "21a90713",
   "metadata": {},
   "outputs": [
    {
     "data": {
      "text/plain": [
       "851"
      ]
     },
     "execution_count": 12,
     "metadata": {},
     "output_type": "execute_result"
    }
   ],
   "source": [
    "#how many days we have\n",
    "len(days_sorted)"
   ]
  },
  {
   "cell_type": "code",
   "execution_count": 14,
   "id": "a44ed884",
   "metadata": {},
   "outputs": [
    {
     "name": "stderr",
     "output_type": "stream",
     "text": [
      "                                                                                \r"
     ]
    }
   ],
   "source": [
    "for day in days_sorted[:300]:\n",
    "    df_day = df_fr.where(col('published_date') == day[0])\n",
    "    df_day.coalesce(1).write.mode('append').option('header','true').csv('Data/Data_Stream')"
   ]
  },
  {
   "cell_type": "code",
   "execution_count": 15,
   "id": "f823b80e",
   "metadata": {},
   "outputs": [],
   "source": [
    "#defining the updated schema\n",
    "\n",
    "df_schema = StructType([StructField(\"video_id\", StringType(), True),\n",
    "                       StructField(\"title\", StringType(), True),\n",
    "                       StructField(\"publishedAt\", TimestampType(), True),\n",
    "                       StructField(\"channelId\", StringType(), True),\n",
    "                       StructField(\"channelTitle\", StringType(), True),\n",
    "                       StructField(\"categoryId\", IntegerType(), True),\n",
    "                       StructField(\"trending_date\", StringType(), True),\n",
    "                       StructField(\"tags\", StringType(), True),\n",
    "                       StructField(\"view_count\", IntegerType(), True),\n",
    "                       StructField(\"likes\", IntegerType(), True),\n",
    "                       StructField(\"dislikes\", IntegerType(), True),\n",
    "                       StructField(\"comment_count\", IntegerType(), True),\n",
    "                       StructField(\"thumbnail_link\", StringType(), True),\n",
    "                       StructField(\"comments_disabled\", BooleanType(), True),\n",
    "                       StructField(\"ratings_disabled\", BooleanType(), True),\n",
    "                       StructField(\"description\", StringType(), True),\n",
    "                       StructField(\"published_date\", DateType(), True)])"
   ]
  },
  {
   "cell_type": "code",
   "execution_count": 16,
   "id": "8fcae79f",
   "metadata": {},
   "outputs": [],
   "source": [
    "streaming = (spark.readStream.schema(df_schema)\n",
    "            .option('maxFilesPerTrigger',1).csv('Data/Data_Stream/'))"
   ]
  },
  {
   "cell_type": "code",
   "execution_count": 17,
   "id": "d4f4d494",
   "metadata": {},
   "outputs": [],
   "source": [
    "#defining a column hour\n",
    "\n",
    "streaming_hour = streaming.withColumn(\"published_hour\", F.hour(\"publishedAt\"))"
   ]
  },
  {
   "cell_type": "code",
   "execution_count": 18,
   "id": "7a80b715",
   "metadata": {},
   "outputs": [],
   "source": [
    "#groupBy published hour\n",
    "\n",
    "hour_count = streaming_hour.groupBy('published_hour').count().orderBy(F.desc('count'))"
   ]
  },
  {
   "cell_type": "code",
   "execution_count": 22,
   "id": "509a0c05",
   "metadata": {},
   "outputs": [
    {
     "name": "stdout",
     "output_type": "stream",
     "text": [
      "23/01/18 23:42:48 WARN ResolveWriteToStream: Temporary checkpoint location created which is deleted normally when the query didn't fail: /private/var/folders/5y/vl62knx9149_y05z_s54ntph0000gn/T/temporary-13514ed1-5d4d-4cc1-a7b6-341bc884c22c. If it's required to delete it under any circumstances, please set spark.sql.streaming.forceDeleteTempCheckpointLocation to true. Important to know deleting temp checkpoint folder is best effort.\n",
      "23/01/18 23:42:48 WARN ResolveWriteToStream: spark.sql.adaptive.enabled is not supported in streaming DataFrames/Datasets and will be disabled.\n"
     ]
    },
    {
     "name": "stderr",
     "output_type": "stream",
     "text": [
      "                                                                                \r"
     ]
    },
    {
     "name": "stdout",
     "output_type": "stream",
     "text": [
      "+--------------+-----+\n",
      "|published_hour|count|\n",
      "+--------------+-----+\n",
      "|             0|    1|\n",
      "+--------------+-----+\n",
      "\n"
     ]
    },
    {
     "name": "stderr",
     "output_type": "stream",
     "text": [
      "                                                                                \r"
     ]
    },
    {
     "name": "stdout",
     "output_type": "stream",
     "text": [
      "+--------------+-----+\n",
      "|published_hour|count|\n",
      "+--------------+-----+\n",
      "|            17|    1|\n",
      "|             0|    1|\n",
      "+--------------+-----+\n",
      "\n"
     ]
    },
    {
     "name": "stderr",
     "output_type": "stream",
     "text": [
      "                                                                                \r"
     ]
    },
    {
     "name": "stdout",
     "output_type": "stream",
     "text": [
      "+--------------+-----+\n",
      "|published_hour|count|\n",
      "+--------------+-----+\n",
      "|            19|    4|\n",
      "|            17|    1|\n",
      "|             8|    1|\n",
      "|            23|    1|\n",
      "|             0|    1|\n",
      "+--------------+-----+\n",
      "\n"
     ]
    },
    {
     "name": "stderr",
     "output_type": "stream",
     "text": [
      "                                                                                \r"
     ]
    },
    {
     "name": "stdout",
     "output_type": "stream",
     "text": [
      "+--------------+-----+\n",
      "|published_hour|count|\n",
      "+--------------+-----+\n",
      "|            19|   13|\n",
      "|            17|    3|\n",
      "|            18|    3|\n",
      "|            12|    2|\n",
      "|            22|    1|\n",
      "|             1|    1|\n",
      "|            16|    1|\n",
      "|             9|    1|\n",
      "|             8|    1|\n",
      "|            23|    1|\n",
      "|             7|    1|\n",
      "|            10|    1|\n",
      "|             0|    1|\n",
      "+--------------+-----+\n",
      "\n"
     ]
    },
    {
     "name": "stderr",
     "output_type": "stream",
     "text": [
      "                                                                                \r"
     ]
    },
    {
     "name": "stdout",
     "output_type": "stream",
     "text": [
      "+--------------+-----+\n",
      "|published_hour|count|\n",
      "+--------------+-----+\n",
      "|            19|   14|\n",
      "|            17|    5|\n",
      "|            18|    5|\n",
      "|            12|    3|\n",
      "|            13|    3|\n",
      "|            16|    2|\n",
      "|            15|    2|\n",
      "|            10|    2|\n",
      "|            21|    2|\n",
      "|            11|    2|\n",
      "|            22|    1|\n",
      "|             1|    1|\n",
      "|            20|    1|\n",
      "|             9|    1|\n",
      "|             8|    1|\n",
      "|            23|    1|\n",
      "|             7|    1|\n",
      "|            14|    1|\n",
      "|             0|    1|\n",
      "+--------------+-----+\n",
      "\n"
     ]
    },
    {
     "name": "stderr",
     "output_type": "stream",
     "text": [
      "                                                                                \r"
     ]
    },
    {
     "name": "stdout",
     "output_type": "stream",
     "text": [
      "+--------------+-----+\n",
      "|published_hour|count|\n",
      "+--------------+-----+\n",
      "|            19|   28|\n",
      "|            18|   14|\n",
      "|            11|   12|\n",
      "|            13|   11|\n",
      "|            12|   10|\n",
      "|            17|    9|\n",
      "|            16|    8|\n",
      "|            21|    8|\n",
      "|            14|    8|\n",
      "|            20|    6|\n",
      "|            22|    5|\n",
      "|            15|    5|\n",
      "|            10|    5|\n",
      "|            23|    4|\n",
      "|             0|    4|\n",
      "|             9|    2|\n",
      "|             1|    1|\n",
      "|             4|    1|\n",
      "|             8|    1|\n",
      "|             7|    1|\n",
      "+--------------+-----+\n",
      "\n"
     ]
    },
    {
     "name": "stderr",
     "output_type": "stream",
     "text": [
      "                                                                                \r"
     ]
    },
    {
     "name": "stdout",
     "output_type": "stream",
     "text": [
      "+--------------+-----+\n",
      "|published_hour|count|\n",
      "+--------------+-----+\n",
      "|            19|   28|\n",
      "|            18|   14|\n",
      "|            11|   12|\n",
      "|            13|   11|\n",
      "|            12|   10|\n",
      "|            17|    9|\n",
      "|            16|    8|\n",
      "|            21|    8|\n",
      "|            14|    8|\n",
      "|            20|    6|\n",
      "|            22|    5|\n",
      "|            15|    5|\n",
      "|            10|    5|\n",
      "|            23|    4|\n",
      "|             0|    4|\n",
      "|             9|    2|\n",
      "|             1|    1|\n",
      "|             4|    1|\n",
      "|             8|    1|\n",
      "|             7|    1|\n",
      "+--------------+-----+\n",
      "\n"
     ]
    },
    {
     "name": "stderr",
     "output_type": "stream",
     "text": [
      "                                                                                \r"
     ]
    },
    {
     "name": "stdout",
     "output_type": "stream",
     "text": [
      "+--------------+-----+\n",
      "|published_hour|count|\n",
      "+--------------+-----+\n",
      "|            19|   38|\n",
      "|            18|   18|\n",
      "|            12|   14|\n",
      "|            13|   14|\n",
      "|            17|   13|\n",
      "|            11|   12|\n",
      "|            16|   11|\n",
      "|            21|   10|\n",
      "|            14|   10|\n",
      "|            20|    9|\n",
      "|            10|    9|\n",
      "|            22|    7|\n",
      "|            15|    7|\n",
      "|             0|    7|\n",
      "|            23|    4|\n",
      "|             9|    2|\n",
      "|             1|    1|\n",
      "|             4|    1|\n",
      "|             8|    1|\n",
      "|             7|    1|\n",
      "+--------------+-----+\n",
      "\n"
     ]
    },
    {
     "name": "stderr",
     "output_type": "stream",
     "text": [
      "                                                                                \r"
     ]
    },
    {
     "name": "stdout",
     "output_type": "stream",
     "text": [
      "+--------------+-----+\n",
      "|published_hour|count|\n",
      "+--------------+-----+\n",
      "|            19|   44|\n",
      "|            18|   23|\n",
      "|            13|   22|\n",
      "|            12|   21|\n",
      "|            17|   16|\n",
      "|            11|   15|\n",
      "|            16|   13|\n",
      "|            21|   12|\n",
      "|            14|   12|\n",
      "|            20|   11|\n",
      "|            10|   10|\n",
      "|            22|    9|\n",
      "|             0|    8|\n",
      "|            15|    7|\n",
      "|            23|    7|\n",
      "|             1|    2|\n",
      "|             9|    2|\n",
      "|             8|    2|\n",
      "|             4|    1|\n",
      "|             7|    1|\n",
      "+--------------+-----+\n",
      "\n"
     ]
    },
    {
     "name": "stderr",
     "output_type": "stream",
     "text": [
      "                                                                                \r"
     ]
    },
    {
     "name": "stdout",
     "output_type": "stream",
     "text": [
      "+--------------+-----+\n",
      "|published_hour|count|\n",
      "+--------------+-----+\n",
      "|            19|   44|\n",
      "|            18|   23|\n",
      "|            13|   22|\n",
      "|            12|   21|\n",
      "|            17|   16|\n",
      "|            11|   15|\n",
      "|            16|   13|\n",
      "|            21|   12|\n",
      "|            14|   12|\n",
      "|            20|   11|\n",
      "|            10|   10|\n",
      "|            22|    9|\n",
      "|             0|    8|\n",
      "|            15|    7|\n",
      "|            23|    7|\n",
      "|             1|    2|\n",
      "|             9|    2|\n",
      "|             8|    2|\n",
      "|             4|    1|\n",
      "|             7|    1|\n",
      "+--------------+-----+\n",
      "\n"
     ]
    },
    {
     "name": "stderr",
     "output_type": "stream",
     "text": [
      "                                                                                \r"
     ]
    },
    {
     "name": "stdout",
     "output_type": "stream",
     "text": [
      "+--------------+-----+\n",
      "|published_hour|count|\n",
      "+--------------+-----+\n",
      "|            19|   51|\n",
      "|            18|   30|\n",
      "|            12|   24|\n",
      "|            13|   24|\n",
      "|            17|   20|\n",
      "|            21|   16|\n",
      "|            11|   16|\n",
      "|            16|   15|\n",
      "|            20|   15|\n",
      "|             0|   13|\n",
      "|            22|   12|\n",
      "|            14|   12|\n",
      "|            10|   10|\n",
      "|            15|    8|\n",
      "|            23|    8|\n",
      "|             1|    3|\n",
      "|             8|    3|\n",
      "|             9|    2|\n",
      "|             7|    2|\n",
      "|             2|    2|\n",
      "|             4|    1|\n",
      "+--------------+-----+\n",
      "\n"
     ]
    },
    {
     "name": "stderr",
     "output_type": "stream",
     "text": [
      "                                                                                \r"
     ]
    },
    {
     "name": "stdout",
     "output_type": "stream",
     "text": [
      "+--------------+-----+\n",
      "|published_hour|count|\n",
      "+--------------+-----+\n",
      "|            19|   59|\n",
      "|            18|   42|\n",
      "|            13|   29|\n",
      "|            12|   26|\n",
      "|            17|   24|\n",
      "|            21|   20|\n",
      "|            11|   18|\n",
      "|            20|   16|\n",
      "|            16|   15|\n",
      "|            22|   14|\n",
      "|             0|   14|\n",
      "|            14|   13|\n",
      "|            15|   10|\n",
      "|            23|   10|\n",
      "|             7|   10|\n",
      "|            10|   10|\n",
      "|             1|    6|\n",
      "|             2|    5|\n",
      "|             9|    3|\n",
      "|             8|    3|\n",
      "|             4|    1|\n",
      "+--------------+-----+\n",
      "\n"
     ]
    },
    {
     "name": "stderr",
     "output_type": "stream",
     "text": [
      "                                                                                \r"
     ]
    },
    {
     "name": "stdout",
     "output_type": "stream",
     "text": [
      "+--------------+-----+\n",
      "|published_hour|count|\n",
      "+--------------+-----+\n",
      "|            19|   60|\n",
      "|            18|   47|\n",
      "|            13|   29|\n",
      "|            12|   28|\n",
      "|            17|   25|\n",
      "|            21|   24|\n",
      "|            11|   19|\n",
      "|             0|   19|\n",
      "|            20|   17|\n",
      "|            22|   15|\n",
      "|            16|   15|\n",
      "|            15|   14|\n",
      "|            14|   14|\n",
      "|            23|   12|\n",
      "|            10|   12|\n",
      "|             7|   10|\n",
      "|             1|    8|\n",
      "|             2|    5|\n",
      "|             9|    3|\n",
      "|             8|    3|\n",
      "|             6|    1|\n",
      "|             4|    1|\n",
      "+--------------+-----+\n",
      "\n"
     ]
    },
    {
     "name": "stderr",
     "output_type": "stream",
     "text": [
      "                                                                                \r"
     ]
    },
    {
     "name": "stdout",
     "output_type": "stream",
     "text": [
      "+--------------+-----+\n",
      "|published_hour|count|\n",
      "+--------------+-----+\n",
      "|            19|   68|\n",
      "|            18|   51|\n",
      "|            12|   35|\n",
      "|            13|   34|\n",
      "|            21|   30|\n",
      "|            17|   26|\n",
      "|            11|   25|\n",
      "|            20|   22|\n",
      "|            22|   20|\n",
      "|             0|   19|\n",
      "|            16|   17|\n",
      "|            14|   17|\n",
      "|            15|   15|\n",
      "|            10|   15|\n",
      "|            23|   13|\n",
      "|             7|   10|\n",
      "|             1|    8|\n",
      "|             9|    5|\n",
      "|             2|    5|\n",
      "|             8|    4|\n",
      "|             6|    1|\n",
      "|             4|    1|\n",
      "+--------------+-----+\n",
      "\n"
     ]
    },
    {
     "name": "stderr",
     "output_type": "stream",
     "text": [
      "                                                                                \r"
     ]
    },
    {
     "name": "stdout",
     "output_type": "stream",
     "text": [
      "+--------------+-----+\n",
      "|published_hour|count|\n",
      "+--------------+-----+\n",
      "|            19|   68|\n",
      "|            18|   51|\n",
      "|            12|   35|\n",
      "|            13|   34|\n",
      "|            21|   30|\n",
      "|            17|   26|\n",
      "|            11|   25|\n",
      "|            20|   22|\n",
      "|            22|   20|\n",
      "|             0|   19|\n",
      "|            16|   17|\n",
      "|            14|   17|\n",
      "|            15|   15|\n",
      "|            10|   15|\n",
      "|            23|   13|\n",
      "|             7|   10|\n",
      "|             1|    8|\n",
      "|             9|    5|\n",
      "|             2|    5|\n",
      "|             8|    4|\n",
      "|             6|    1|\n",
      "|             4|    1|\n",
      "+--------------+-----+\n",
      "\n"
     ]
    },
    {
     "name": "stderr",
     "output_type": "stream",
     "text": [
      "                                                                                \r"
     ]
    },
    {
     "name": "stdout",
     "output_type": "stream",
     "text": [
      "+--------------+-----+\n",
      "|published_hour|count|\n",
      "+--------------+-----+\n",
      "|            19|   75|\n",
      "|            18|   54|\n",
      "|            12|   39|\n",
      "|            13|   36|\n",
      "|            21|   32|\n",
      "|            17|   29|\n",
      "|            11|   27|\n",
      "|            20|   24|\n",
      "|            22|   22|\n",
      "|            16|   21|\n",
      "|             0|   20|\n",
      "|            14|   18|\n",
      "|            15|   15|\n",
      "|            10|   15|\n",
      "|            23|   14|\n",
      "|             7|   10|\n",
      "|             1|    8|\n",
      "|             9|    6|\n",
      "|             2|    5|\n",
      "|             8|    4|\n",
      "|             6|    1|\n",
      "|             4|    1|\n",
      "+--------------+-----+\n",
      "\n"
     ]
    },
    {
     "name": "stderr",
     "output_type": "stream",
     "text": [
      "                                                                                \r"
     ]
    },
    {
     "name": "stdout",
     "output_type": "stream",
     "text": [
      "+--------------+-----+\n",
      "|published_hour|count|\n",
      "+--------------+-----+\n",
      "|            19|   79|\n",
      "|            18|   61|\n",
      "|            12|   41|\n",
      "|            13|   39|\n",
      "|            21|   32|\n",
      "|            17|   30|\n",
      "|            11|   28|\n",
      "|            20|   26|\n",
      "|            22|   24|\n",
      "|            16|   23|\n",
      "|             0|   21|\n",
      "|            14|   19|\n",
      "|            15|   18|\n",
      "|            10|   17|\n",
      "|            23|   15|\n",
      "|             7|   11|\n",
      "|             1|    9|\n",
      "|             9|    6|\n",
      "|             2|    5|\n",
      "|             8|    4|\n",
      "|             6|    1|\n",
      "|             4|    1|\n",
      "+--------------+-----+\n",
      "\n"
     ]
    },
    {
     "name": "stderr",
     "output_type": "stream",
     "text": [
      "                                                                                \r"
     ]
    },
    {
     "name": "stdout",
     "output_type": "stream",
     "text": [
      "+--------------+-----+\n",
      "|published_hour|count|\n",
      "+--------------+-----+\n",
      "|            19|   86|\n",
      "|            18|   69|\n",
      "|            12|   47|\n",
      "|            13|   44|\n",
      "|            17|   32|\n",
      "|            21|   32|\n",
      "|            11|   29|\n",
      "|            20|   28|\n",
      "|            22|   26|\n",
      "|             0|   25|\n",
      "|            16|   24|\n",
      "|            14|   21|\n",
      "|            15|   19|\n",
      "|            10|   18|\n",
      "|            23|   16|\n",
      "|             7|   11|\n",
      "|             1|   10|\n",
      "|             9|    6|\n",
      "|             2|    6|\n",
      "|             8|    5|\n",
      "|             6|    1|\n",
      "|             4|    1|\n",
      "+--------------+-----+\n",
      "\n"
     ]
    },
    {
     "name": "stderr",
     "output_type": "stream",
     "text": [
      "                                                                                \r"
     ]
    },
    {
     "name": "stdout",
     "output_type": "stream",
     "text": [
      "+--------------+-----+\n",
      "|published_hour|count|\n",
      "+--------------+-----+\n",
      "|            19|   86|\n",
      "|            18|   69|\n",
      "|            12|   47|\n",
      "|            13|   44|\n",
      "|            17|   32|\n",
      "|            21|   32|\n",
      "|            11|   29|\n",
      "|            20|   28|\n",
      "|            22|   26|\n",
      "|             0|   25|\n",
      "|            16|   24|\n",
      "|            14|   21|\n",
      "|            15|   19|\n",
      "|            10|   18|\n",
      "|            23|   16|\n",
      "|             7|   11|\n",
      "|             1|   10|\n",
      "|             9|    6|\n",
      "|             2|    6|\n",
      "|             8|    5|\n",
      "|             6|    1|\n",
      "|             4|    1|\n",
      "+--------------+-----+\n",
      "\n"
     ]
    },
    {
     "name": "stderr",
     "output_type": "stream",
     "text": [
      "                                                                                \r"
     ]
    },
    {
     "name": "stdout",
     "output_type": "stream",
     "text": [
      "+--------------+-----+\n",
      "|published_hour|count|\n",
      "+--------------+-----+\n",
      "|            19|   94|\n",
      "|            18|   75|\n",
      "|            12|   50|\n",
      "|            13|   45|\n",
      "|            21|   35|\n",
      "|            17|   33|\n",
      "|            11|   31|\n",
      "|            20|   30|\n",
      "|            22|   29|\n",
      "|            16|   28|\n",
      "|             0|   26|\n",
      "|            14|   21|\n",
      "|            15|   20|\n",
      "|            10|   18|\n",
      "|            23|   16|\n",
      "|             7|   11|\n",
      "|             1|   10|\n",
      "|             2|    7|\n",
      "|             9|    6|\n",
      "|             8|    5|\n",
      "|             6|    4|\n",
      "|             5|    1|\n",
      "|             4|    1|\n",
      "+--------------+-----+\n",
      "\n"
     ]
    },
    {
     "name": "stderr",
     "output_type": "stream",
     "text": [
      "                                                                                \r"
     ]
    },
    {
     "name": "stdout",
     "output_type": "stream",
     "text": [
      "+--------------+-----+\n",
      "|published_hour|count|\n",
      "+--------------+-----+\n",
      "|            19|  107|\n",
      "|            18|   81|\n",
      "|            12|   50|\n",
      "|            13|   49|\n",
      "|            21|   36|\n",
      "|            17|   34|\n",
      "|            11|   32|\n",
      "|            22|   30|\n",
      "|            16|   30|\n",
      "|            20|   30|\n",
      "|             0|   28|\n",
      "|            15|   21|\n",
      "|            14|   21|\n",
      "|            10|   19|\n",
      "|             7|   18|\n",
      "|             1|   16|\n",
      "|            23|   16|\n",
      "|             2|    7|\n",
      "|             9|    6|\n",
      "|             6|    5|\n",
      "|             8|    5|\n",
      "|             4|    2|\n",
      "|             5|    1|\n",
      "+--------------+-----+\n",
      "\n"
     ]
    },
    {
     "name": "stderr",
     "output_type": "stream",
     "text": [
      "                                                                                \r"
     ]
    },
    {
     "name": "stdout",
     "output_type": "stream",
     "text": [
      "+--------------+-----+\n",
      "|published_hour|count|\n",
      "+--------------+-----+\n",
      "|            19|  108|\n",
      "|            18|   84|\n",
      "|            13|   54|\n",
      "|            12|   52|\n",
      "|            21|   38|\n",
      "|            17|   35|\n",
      "|            11|   33|\n",
      "|            22|   32|\n",
      "|            16|   31|\n",
      "|            20|   31|\n",
      "|             0|   30|\n",
      "|            14|   23|\n",
      "|            15|   22|\n",
      "|            10|   21|\n",
      "|             7|   19|\n",
      "|             1|   18|\n",
      "|            23|   16|\n",
      "|             2|    7|\n",
      "|             6|    6|\n",
      "|             9|    6|\n",
      "|             8|    5|\n",
      "|             4|    2|\n",
      "|             3|    1|\n",
      "|             5|    1|\n",
      "+--------------+-----+\n",
      "\n"
     ]
    },
    {
     "name": "stderr",
     "output_type": "stream",
     "text": [
      "                                                                                \r"
     ]
    },
    {
     "name": "stdout",
     "output_type": "stream",
     "text": [
      "+--------------+-----+\n",
      "|published_hour|count|\n",
      "+--------------+-----+\n",
      "|            19|  114|\n",
      "|            18|   88|\n",
      "|            13|   60|\n",
      "|            12|   55|\n",
      "|            21|   40|\n",
      "|            11|   40|\n",
      "|            17|   37|\n",
      "|            20|   35|\n",
      "|            16|   33|\n",
      "|            22|   32|\n",
      "|             0|   32|\n",
      "|            14|   25|\n",
      "|            15|   23|\n",
      "|            10|   23|\n",
      "|             1|   19|\n",
      "|             7|   19|\n",
      "|            23|   17|\n",
      "|             9|    7|\n",
      "|             2|    7|\n",
      "|             6|    6|\n",
      "|             8|    5|\n",
      "|             3|    3|\n",
      "|             4|    2|\n",
      "|             5|    1|\n",
      "+--------------+-----+\n",
      "\n"
     ]
    },
    {
     "name": "stderr",
     "output_type": "stream",
     "text": [
      "                                                                                \r"
     ]
    },
    {
     "name": "stdout",
     "output_type": "stream",
     "text": [
      "+--------------+-----+\n",
      "|published_hour|count|\n",
      "+--------------+-----+\n",
      "|            19|  119|\n",
      "|            18|   98|\n",
      "|            13|   62|\n",
      "|            12|   59|\n",
      "|            11|   42|\n",
      "|            21|   41|\n",
      "|            17|   39|\n",
      "|            20|   37|\n",
      "|             0|   37|\n",
      "|            16|   35|\n",
      "|            22|   33|\n",
      "|            14|   28|\n",
      "|            15|   24|\n",
      "|            10|   24|\n",
      "|             1|   22|\n",
      "|             7|   20|\n",
      "|            23|   18|\n",
      "|             9|    9|\n",
      "|             2|    8|\n",
      "|             6|    6|\n",
      "|             3|    5|\n",
      "|             8|    5|\n",
      "|             4|    3|\n",
      "|             5|    1|\n",
      "+--------------+-----+\n",
      "\n"
     ]
    },
    {
     "name": "stderr",
     "output_type": "stream",
     "text": [
      "                                                                                \r"
     ]
    },
    {
     "name": "stdout",
     "output_type": "stream",
     "text": [
      "+--------------+-----+\n",
      "|published_hour|count|\n",
      "+--------------+-----+\n",
      "|            19|  125|\n",
      "|            18|  102|\n",
      "|            13|   62|\n",
      "|            12|   61|\n",
      "|            21|   45|\n",
      "|            11|   44|\n",
      "|            20|   41|\n",
      "|            17|   41|\n",
      "|            22|   39|\n",
      "|             0|   38|\n",
      "|            16|   37|\n",
      "|            14|   28|\n",
      "|            15|   26|\n",
      "|            10|   24|\n",
      "|             1|   22|\n",
      "|             7|   21|\n",
      "|            23|   20|\n",
      "|             9|    9|\n",
      "|             2|    8|\n",
      "|             6|    6|\n",
      "|             3|    5|\n",
      "|             8|    5|\n",
      "|             4|    3|\n",
      "|             5|    2|\n",
      "+--------------+-----+\n",
      "\n"
     ]
    },
    {
     "name": "stderr",
     "output_type": "stream",
     "text": [
      "                                                                                \r"
     ]
    },
    {
     "name": "stdout",
     "output_type": "stream",
     "text": [
      "+--------------+-----+\n",
      "|published_hour|count|\n",
      "+--------------+-----+\n",
      "|            19|  125|\n",
      "|            18|  102|\n",
      "|            13|   62|\n",
      "|            12|   61|\n",
      "|            21|   45|\n",
      "|            11|   44|\n",
      "|            20|   41|\n",
      "|            17|   41|\n",
      "|            22|   39|\n",
      "|             0|   38|\n",
      "|            16|   37|\n",
      "|            14|   28|\n",
      "|            15|   26|\n",
      "|            10|   24|\n",
      "|             1|   22|\n",
      "|             7|   21|\n",
      "|            23|   20|\n",
      "|             9|    9|\n",
      "|             2|    8|\n",
      "|             6|    6|\n",
      "|             3|    5|\n",
      "|             8|    5|\n",
      "|             4|    3|\n",
      "|             5|    2|\n",
      "+--------------+-----+\n",
      "\n"
     ]
    },
    {
     "name": "stderr",
     "output_type": "stream",
     "text": [
      "                                                                                \r"
     ]
    },
    {
     "name": "stdout",
     "output_type": "stream",
     "text": [
      "+--------------+-----+\n",
      "|published_hour|count|\n",
      "+--------------+-----+\n",
      "|            19|  137|\n",
      "|            18|  111|\n",
      "|            13|   67|\n",
      "|            12|   66|\n",
      "|            20|   47|\n",
      "|            11|   47|\n",
      "|            17|   46|\n",
      "|            21|   46|\n",
      "|            22|   41|\n",
      "|            16|   40|\n",
      "|             0|   39|\n",
      "|            14|   28|\n",
      "|            15|   26|\n",
      "|            10|   24|\n",
      "|             1|   22|\n",
      "|            23|   22|\n",
      "|             7|   22|\n",
      "|             9|    9|\n",
      "|             2|    8|\n",
      "|             6|    6|\n",
      "|             3|    5|\n",
      "|             8|    5|\n",
      "|             5|    3|\n",
      "|             4|    3|\n",
      "+--------------+-----+\n",
      "\n"
     ]
    },
    {
     "name": "stderr",
     "output_type": "stream",
     "text": [
      "                                                                                \r"
     ]
    },
    {
     "name": "stdout",
     "output_type": "stream",
     "text": [
      "+--------------+-----+\n",
      "|published_hour|count|\n",
      "+--------------+-----+\n",
      "|            19|  144|\n",
      "|            18|  114|\n",
      "|            13|   70|\n",
      "|            12|   67|\n",
      "|            17|   53|\n",
      "|            21|   52|\n",
      "|            11|   48|\n",
      "|            20|   47|\n",
      "|            22|   44|\n",
      "|            16|   41|\n",
      "|             0|   39|\n",
      "|            15|   28|\n",
      "|            14|   28|\n",
      "|            10|   25|\n",
      "|             1|   22|\n",
      "|            23|   22|\n",
      "|             7|   22|\n",
      "|             9|   10|\n",
      "|             2|    8|\n",
      "|             6|    6|\n",
      "|             3|    6|\n",
      "|             8|    5|\n",
      "|             5|    3|\n",
      "|             4|    3|\n",
      "+--------------+-----+\n",
      "\n"
     ]
    },
    {
     "name": "stderr",
     "output_type": "stream",
     "text": [
      "                                                                                \r"
     ]
    },
    {
     "name": "stdout",
     "output_type": "stream",
     "text": [
      "+--------------+-----+\n",
      "|published_hour|count|\n",
      "+--------------+-----+\n",
      "|            19|  159|\n",
      "|            18|  119|\n",
      "|            13|   72|\n",
      "|            12|   69|\n",
      "|            17|   58|\n",
      "|            21|   55|\n",
      "|            20|   49|\n",
      "|            11|   49|\n",
      "|            22|   45|\n",
      "|            16|   42|\n",
      "|             0|   40|\n",
      "|            15|   31|\n",
      "|             7|   28|\n",
      "|            14|   28|\n",
      "|             1|   27|\n",
      "|            10|   26|\n",
      "|            23|   22|\n",
      "|             9|   10|\n",
      "|             2|    8|\n",
      "|             6|    6|\n",
      "|             3|    6|\n",
      "|             8|    5|\n",
      "|             5|    3|\n",
      "|             4|    3|\n",
      "+--------------+-----+\n",
      "\n"
     ]
    },
    {
     "name": "stderr",
     "output_type": "stream",
     "text": [
      "                                                                                \r"
     ]
    },
    {
     "name": "stdout",
     "output_type": "stream",
     "text": [
      "+--------------+-----+\n",
      "|published_hour|count|\n",
      "+--------------+-----+\n",
      "|            19|  162|\n",
      "|            18|  121|\n",
      "|            12|   76|\n",
      "|            13|   73|\n",
      "|            17|   58|\n",
      "|            21|   58|\n",
      "|            20|   50|\n",
      "|            11|   50|\n",
      "|            22|   47|\n",
      "|            16|   42|\n",
      "|             0|   40|\n",
      "|            15|   36|\n",
      "|            14|   30|\n",
      "|             7|   28|\n",
      "|             1|   27|\n",
      "|            10|   26|\n",
      "|            23|   24|\n",
      "|             9|   11|\n",
      "|             2|    8|\n",
      "|             6|    6|\n",
      "|             3|    6|\n",
      "|             8|    5|\n",
      "|             5|    3|\n",
      "|             4|    3|\n",
      "+--------------+-----+\n",
      "\n"
     ]
    },
    {
     "name": "stderr",
     "output_type": "stream",
     "text": [
      "                                                                                \r"
     ]
    },
    {
     "name": "stdout",
     "output_type": "stream",
     "text": [
      "+--------------+-----+\n",
      "|published_hour|count|\n",
      "+--------------+-----+\n",
      "|            19|  171|\n",
      "|            18|  127|\n",
      "|            12|   78|\n",
      "|            13|   77|\n",
      "|            17|   62|\n",
      "|            21|   58|\n",
      "|            11|   53|\n",
      "|            20|   51|\n",
      "|            22|   48|\n",
      "|            16|   45|\n",
      "|             0|   40|\n",
      "|            15|   37|\n",
      "|            14|   36|\n",
      "|             7|   28|\n",
      "|            10|   28|\n",
      "|             1|   27|\n",
      "|            23|   24|\n",
      "|             9|   12|\n",
      "|             2|    8|\n",
      "|             6|    6|\n",
      "|             3|    6|\n",
      "|             8|    5|\n",
      "|             5|    3|\n",
      "|             4|    3|\n",
      "+--------------+-----+\n",
      "\n"
     ]
    },
    {
     "name": "stderr",
     "output_type": "stream",
     "text": [
      "                                                                                \r"
     ]
    },
    {
     "name": "stdout",
     "output_type": "stream",
     "text": [
      "+--------------+-----+\n",
      "|published_hour|count|\n",
      "+--------------+-----+\n",
      "|            19|  179|\n",
      "|            18|  134|\n",
      "|            12|   81|\n",
      "|            13|   81|\n",
      "|            17|   62|\n",
      "|            21|   60|\n",
      "|            11|   55|\n",
      "|            20|   53|\n",
      "|            22|   50|\n",
      "|            16|   46|\n",
      "|             0|   41|\n",
      "|            15|   39|\n",
      "|            14|   36|\n",
      "|             1|   29|\n",
      "|            10|   29|\n",
      "|             7|   28|\n",
      "|            23|   26|\n",
      "|             9|   13|\n",
      "|             3|    9|\n",
      "|             2|    9|\n",
      "|             6|    8|\n",
      "|             4|    5|\n",
      "|             8|    5|\n",
      "|             5|    3|\n",
      "+--------------+-----+\n",
      "\n"
     ]
    },
    {
     "name": "stderr",
     "output_type": "stream",
     "text": [
      "                                                                                \r"
     ]
    },
    {
     "name": "stdout",
     "output_type": "stream",
     "text": [
      "+--------------+-----+\n",
      "|published_hour|count|\n",
      "+--------------+-----+\n",
      "|            19|  192|\n",
      "|            18|  145|\n",
      "|            13|   85|\n",
      "|            12|   83|\n",
      "|            17|   65|\n",
      "|            21|   64|\n",
      "|            11|   57|\n",
      "|            20|   55|\n",
      "|            22|   51|\n",
      "|            16|   46|\n",
      "|            14|   42|\n",
      "|             0|   41|\n",
      "|            15|   40|\n",
      "|            10|   30|\n",
      "|             1|   29|\n",
      "|             7|   29|\n",
      "|            23|   26|\n",
      "|             9|   14|\n",
      "|             2|   10|\n",
      "|             6|    9|\n",
      "|             3|    9|\n",
      "|             8|    6|\n",
      "|             4|    5|\n",
      "|             5|    3|\n",
      "+--------------+-----+\n",
      "\n"
     ]
    },
    {
     "name": "stderr",
     "output_type": "stream",
     "text": [
      "                                                                                \r"
     ]
    },
    {
     "name": "stdout",
     "output_type": "stream",
     "text": [
      "+--------------+-----+\n",
      "|published_hour|count|\n",
      "+--------------+-----+\n",
      "|            19|  192|\n",
      "|            18|  145|\n",
      "|            13|   85|\n",
      "|            12|   83|\n",
      "|            17|   65|\n",
      "|            21|   64|\n",
      "|            11|   57|\n",
      "|            20|   55|\n",
      "|            22|   51|\n",
      "|            16|   46|\n",
      "|            14|   42|\n",
      "|             0|   41|\n",
      "|            15|   40|\n",
      "|            10|   30|\n",
      "|             1|   29|\n",
      "|             7|   29|\n",
      "|            23|   26|\n",
      "|             9|   14|\n",
      "|             2|   10|\n",
      "|             6|    9|\n",
      "|             3|    9|\n",
      "|             8|    6|\n",
      "|             4|    5|\n",
      "|             5|    3|\n",
      "+--------------+-----+\n",
      "\n"
     ]
    },
    {
     "name": "stderr",
     "output_type": "stream",
     "text": [
      "                                                                                \r"
     ]
    },
    {
     "name": "stdout",
     "output_type": "stream",
     "text": [
      "+--------------+-----+\n",
      "|published_hour|count|\n",
      "+--------------+-----+\n",
      "|            19|  202|\n",
      "|            18|  151|\n",
      "|            13|   90|\n",
      "|            12|   87|\n",
      "|            17|   68|\n",
      "|            21|   66|\n",
      "|            11|   60|\n",
      "|            20|   56|\n",
      "|            22|   54|\n",
      "|            16|   48|\n",
      "|            14|   43|\n",
      "|             0|   42|\n",
      "|            15|   41|\n",
      "|            10|   32|\n",
      "|             1|   29|\n",
      "|             7|   29|\n",
      "|            23|   27|\n",
      "|             9|   14|\n",
      "|             2|   11|\n",
      "|             6|   10|\n",
      "|             3|    9|\n",
      "|             8|    6|\n",
      "|             4|    5|\n",
      "|             5|    4|\n",
      "+--------------+-----+\n",
      "\n"
     ]
    },
    {
     "name": "stderr",
     "output_type": "stream",
     "text": [
      "                                                                                \r"
     ]
    },
    {
     "name": "stdout",
     "output_type": "stream",
     "text": [
      "+--------------+-----+\n",
      "|published_hour|count|\n",
      "+--------------+-----+\n",
      "|            19|  215|\n",
      "|            18|  160|\n",
      "|            13|   90|\n",
      "|            12|   89|\n",
      "|            17|   72|\n",
      "|            21|   66|\n",
      "|            11|   60|\n",
      "|            20|   59|\n",
      "|            22|   55|\n",
      "|            16|   49|\n",
      "|            14|   44|\n",
      "|            15|   42|\n",
      "|             0|   42|\n",
      "|            10|   33|\n",
      "|             7|   32|\n",
      "|             1|   29|\n",
      "|            23|   29|\n",
      "|             9|   14|\n",
      "|             2|   11|\n",
      "|             6|   10|\n",
      "|             3|    9|\n",
      "|             8|    7|\n",
      "|             4|    5|\n",
      "|             5|    4|\n",
      "+--------------+-----+\n",
      "\n"
     ]
    },
    {
     "name": "stderr",
     "output_type": "stream",
     "text": [
      "                                                                                \r"
     ]
    },
    {
     "name": "stdout",
     "output_type": "stream",
     "text": [
      "+--------------+-----+\n",
      "|published_hour|count|\n",
      "+--------------+-----+\n",
      "|            19|  226|\n",
      "|            18|  170|\n",
      "|            12|   90|\n",
      "|            13|   90|\n",
      "|            17|   77|\n",
      "|            21|   69|\n",
      "|            20|   64|\n",
      "|            11|   63|\n",
      "|            22|   55|\n",
      "|            16|   49|\n",
      "|            15|   44|\n",
      "|            14|   44|\n",
      "|             0|   42|\n",
      "|             7|   41|\n",
      "|             1|   36|\n",
      "|            10|   35|\n",
      "|            23|   29|\n",
      "|             9|   14|\n",
      "|             2|   12|\n",
      "|             6|   11|\n",
      "|             3|    9|\n",
      "|             8|    9|\n",
      "|             4|    6|\n",
      "|             5|    5|\n",
      "+--------------+-----+\n",
      "\n"
     ]
    },
    {
     "name": "stderr",
     "output_type": "stream",
     "text": [
      "                                                                                \r"
     ]
    },
    {
     "name": "stdout",
     "output_type": "stream",
     "text": [
      "+--------------+-----+\n",
      "|published_hour|count|\n",
      "+--------------+-----+\n",
      "|            19|  231|\n",
      "|            18|  172|\n",
      "|            13|   96|\n",
      "|            12|   92|\n",
      "|            17|   80|\n",
      "|            21|   70|\n",
      "|            20|   65|\n",
      "|            11|   65|\n",
      "|            22|   55|\n",
      "|            16|   50|\n",
      "|            15|   50|\n",
      "|            14|   47|\n",
      "|             0|   42|\n",
      "|             7|   41|\n",
      "|             1|   39|\n",
      "|            10|   35|\n",
      "|            23|   31|\n",
      "|             9|   15|\n",
      "|             2|   12|\n",
      "|             6|   11|\n",
      "|             8|   10|\n",
      "|             3|    9|\n",
      "|             4|    6|\n",
      "|             5|    5|\n",
      "+--------------+-----+\n",
      "\n"
     ]
    },
    {
     "name": "stderr",
     "output_type": "stream",
     "text": [
      "                                                                                \r"
     ]
    },
    {
     "name": "stdout",
     "output_type": "stream",
     "text": [
      "+--------------+-----+\n",
      "|published_hour|count|\n",
      "+--------------+-----+\n",
      "|            19|  236|\n",
      "|            18|  177|\n",
      "|            13|  100|\n",
      "|            12|   99|\n",
      "|            17|   83|\n",
      "|            11|   75|\n",
      "|            21|   71|\n",
      "|            20|   69|\n",
      "|            15|   57|\n",
      "|            22|   56|\n",
      "|            16|   53|\n",
      "|            14|   51|\n",
      "|             7|   42|\n",
      "|             0|   42|\n",
      "|             1|   40|\n",
      "|            10|   36|\n",
      "|            23|   32|\n",
      "|             9|   16|\n",
      "|             2|   12|\n",
      "|             6|   11|\n",
      "|             8|   10|\n",
      "|             3|    9|\n",
      "|             4|    8|\n",
      "|             5|    5|\n",
      "+--------------+-----+\n",
      "\n"
     ]
    },
    {
     "name": "stderr",
     "output_type": "stream",
     "text": [
      "                                                                                \r"
     ]
    },
    {
     "name": "stdout",
     "output_type": "stream",
     "text": [
      "+--------------+-----+\n",
      "|published_hour|count|\n",
      "+--------------+-----+\n",
      "|            19|  244|\n",
      "|            18|  183|\n",
      "|            12|  101|\n",
      "|            13|  100|\n",
      "|            17|   85|\n",
      "|            11|   76|\n",
      "|            20|   73|\n",
      "|            21|   73|\n",
      "|            15|   58|\n",
      "|            22|   57|\n",
      "|            16|   54|\n",
      "|            14|   51|\n",
      "|             7|   43|\n",
      "|             0|   43|\n",
      "|             1|   40|\n",
      "|            10|   40|\n",
      "|            23|   33|\n",
      "|             9|   17|\n",
      "|             2|   13|\n",
      "|             6|   12|\n",
      "|             8|   10|\n",
      "|             3|    9|\n",
      "|             4|    8|\n",
      "|             5|    5|\n",
      "+--------------+-----+\n",
      "\n"
     ]
    },
    {
     "name": "stderr",
     "output_type": "stream",
     "text": [
      "                                                                                \r"
     ]
    },
    {
     "name": "stdout",
     "output_type": "stream",
     "text": [
      "+--------------+-----+\n",
      "|published_hour|count|\n",
      "+--------------+-----+\n",
      "|            19|  262|\n",
      "|            18|  193|\n",
      "|            13|  103|\n",
      "|            12|  101|\n",
      "|            17|   89|\n",
      "|            11|   78|\n",
      "|            20|   75|\n",
      "|            21|   74|\n",
      "|            22|   58|\n",
      "|            15|   58|\n",
      "|            16|   55|\n",
      "|            14|   52|\n",
      "|             7|   44|\n",
      "|             0|   43|\n",
      "|             1|   41|\n",
      "|            10|   40|\n",
      "|            23|   34|\n",
      "|             9|   18|\n",
      "|             2|   13|\n",
      "|             6|   12|\n",
      "|             8|   10|\n",
      "|             3|    9|\n",
      "|             4|    8|\n",
      "|             5|    5|\n",
      "+--------------+-----+\n",
      "\n"
     ]
    },
    {
     "name": "stderr",
     "output_type": "stream",
     "text": [
      "                                                                                \r"
     ]
    },
    {
     "name": "stdout",
     "output_type": "stream",
     "text": [
      "+--------------+-----+\n",
      "|published_hour|count|\n",
      "+--------------+-----+\n",
      "|            19|  270|\n",
      "|            18|  197|\n",
      "|            13|  106|\n",
      "|            12|  103|\n",
      "|            17|   96|\n",
      "|            20|   81|\n",
      "|            11|   80|\n",
      "|            21|   75|\n",
      "|            22|   60|\n",
      "|            15|   60|\n",
      "|            16|   55|\n",
      "|            14|   52|\n",
      "|             7|   45|\n",
      "|             0|   44|\n",
      "|             1|   41|\n",
      "|            10|   40|\n",
      "|            23|   35|\n",
      "|             9|   19|\n",
      "|             2|   14|\n",
      "|             6|   12|\n",
      "|             8|   11|\n",
      "|             3|    9|\n",
      "|             4|    8|\n",
      "|             5|    5|\n",
      "+--------------+-----+\n",
      "\n"
     ]
    },
    {
     "name": "stderr",
     "output_type": "stream",
     "text": [
      "                                                                                \r"
     ]
    },
    {
     "name": "stdout",
     "output_type": "stream",
     "text": [
      "+--------------+-----+\n",
      "|published_hour|count|\n",
      "+--------------+-----+\n",
      "|            19|  280|\n",
      "|            18|  203|\n",
      "|            13|  112|\n",
      "|            12|  105|\n",
      "|            17|   97|\n",
      "|            20|   88|\n",
      "|            21|   80|\n",
      "|            11|   80|\n",
      "|            22|   62|\n",
      "|            15|   60|\n",
      "|            16|   56|\n",
      "|            14|   52|\n",
      "|             7|   47|\n",
      "|             0|   44|\n",
      "|             1|   41|\n",
      "|            10|   40|\n",
      "|            23|   35|\n",
      "|             9|   19|\n",
      "|             2|   14|\n",
      "|             6|   12|\n",
      "|             8|   11|\n",
      "|             3|    9|\n",
      "|             4|    8|\n",
      "|             5|    5|\n",
      "+--------------+-----+\n",
      "\n"
     ]
    },
    {
     "name": "stderr",
     "output_type": "stream",
     "text": [
      "                                                                                \r"
     ]
    },
    {
     "name": "stdout",
     "output_type": "stream",
     "text": [
      "+--------------+-----+\n",
      "|published_hour|count|\n",
      "+--------------+-----+\n",
      "|            19|  289|\n",
      "|            18|  215|\n",
      "|            13|  117|\n",
      "|            12|  106|\n",
      "|            17|   99|\n",
      "|            20|   88|\n",
      "|            21|   81|\n",
      "|            11|   81|\n",
      "|            22|   63|\n",
      "|            15|   60|\n",
      "|            16|   57|\n",
      "|            14|   52|\n",
      "|             7|   50|\n",
      "|             0|   44|\n",
      "|             1|   43|\n",
      "|            10|   41|\n",
      "|            23|   35|\n",
      "|             9|   19|\n",
      "|             6|   15|\n",
      "|             2|   15|\n",
      "|             8|   11|\n",
      "|             3|   10|\n",
      "|             4|    8|\n",
      "|             5|    5|\n",
      "+--------------+-----+\n",
      "\n"
     ]
    },
    {
     "name": "stderr",
     "output_type": "stream",
     "text": [
      "                                                                                \r"
     ]
    },
    {
     "name": "stdout",
     "output_type": "stream",
     "text": [
      "+--------------+-----+\n",
      "|published_hour|count|\n",
      "+--------------+-----+\n",
      "|            19|  294|\n",
      "|            18|  217|\n",
      "|            13|  121|\n",
      "|            12|  109|\n",
      "|            17|   99|\n",
      "|            20|   88|\n",
      "|            11|   84|\n",
      "|            21|   82|\n",
      "|            22|   64|\n",
      "|            15|   61|\n",
      "|            16|   59|\n",
      "|            14|   54|\n",
      "|             7|   51|\n",
      "|             0|   45|\n",
      "|             1|   44|\n",
      "|            10|   41|\n",
      "|            23|   36|\n",
      "|             9|   19|\n",
      "|             6|   15|\n",
      "|             2|   15|\n",
      "|             8|   11|\n",
      "|             3|   10|\n",
      "|             4|    8|\n",
      "|             5|    5|\n",
      "+--------------+-----+\n",
      "\n"
     ]
    },
    {
     "name": "stderr",
     "output_type": "stream",
     "text": [
      "                                                                                \r"
     ]
    },
    {
     "name": "stdout",
     "output_type": "stream",
     "text": [
      "+--------------+-----+\n",
      "|published_hour|count|\n",
      "+--------------+-----+\n",
      "|            19|  297|\n",
      "|            18|  220|\n",
      "|            13|  130|\n",
      "|            12|  114|\n",
      "|            17|   99|\n",
      "|            11|   92|\n",
      "|            20|   90|\n",
      "|            21|   84|\n",
      "|            22|   65|\n",
      "|            15|   64|\n",
      "|            16|   62|\n",
      "|            14|   55|\n",
      "|             7|   51|\n",
      "|             0|   46|\n",
      "|             1|   44|\n",
      "|            10|   44|\n",
      "|            23|   36|\n",
      "|             9|   19|\n",
      "|             6|   15|\n",
      "|             2|   15|\n",
      "|             8|   11|\n",
      "|             3|   10|\n",
      "|             4|    8|\n",
      "|             5|    5|\n",
      "+--------------+-----+\n",
      "\n"
     ]
    },
    {
     "name": "stderr",
     "output_type": "stream",
     "text": [
      "                                                                                \r"
     ]
    },
    {
     "name": "stdout",
     "output_type": "stream",
     "text": [
      "+--------------+-----+\n",
      "|published_hour|count|\n",
      "+--------------+-----+\n",
      "|            19|  309|\n",
      "|            18|  228|\n",
      "|            13|  132|\n",
      "|            12|  116|\n",
      "|            17|  100|\n",
      "|            11|   94|\n",
      "|            20|   91|\n",
      "|            21|   85|\n",
      "|            22|   65|\n",
      "|            15|   64|\n",
      "|            16|   62|\n",
      "|            14|   55|\n",
      "|             7|   53|\n",
      "|             0|   49|\n",
      "|             1|   48|\n",
      "|            10|   44|\n",
      "|            23|   37|\n",
      "|             9|   22|\n",
      "|             6|   16|\n",
      "|             2|   16|\n",
      "|             3|   13|\n",
      "|             8|   11|\n",
      "|             4|    9|\n",
      "|             5|    5|\n",
      "+--------------+-----+\n",
      "\n"
     ]
    },
    {
     "name": "stderr",
     "output_type": "stream",
     "text": [
      "                                                                                \r"
     ]
    },
    {
     "name": "stdout",
     "output_type": "stream",
     "text": [
      "+--------------+-----+\n",
      "|published_hour|count|\n",
      "+--------------+-----+\n",
      "|            19|  322|\n",
      "|            18|  232|\n",
      "|            13|  133|\n",
      "|            12|  117|\n",
      "|            17|  102|\n",
      "|            11|   96|\n",
      "|            20|   94|\n",
      "|            21|   88|\n",
      "|            22|   66|\n",
      "|            15|   64|\n",
      "|            16|   63|\n",
      "|            14|   55|\n",
      "|             7|   53|\n",
      "|             1|   49|\n",
      "|             0|   49|\n",
      "|            10|   45|\n",
      "|            23|   40|\n",
      "|             9|   22|\n",
      "|             2|   17|\n",
      "|             6|   16|\n",
      "|             3|   13|\n",
      "|             8|   11|\n",
      "|             4|   10|\n",
      "|             5|    5|\n",
      "+--------------+-----+\n",
      "\n"
     ]
    },
    {
     "name": "stderr",
     "output_type": "stream",
     "text": [
      "                                                                                \r"
     ]
    },
    {
     "name": "stdout",
     "output_type": "stream",
     "text": [
      "+--------------+-----+\n",
      "|published_hour|count|\n",
      "+--------------+-----+\n",
      "|            19|  335|\n",
      "|            18|  240|\n",
      "|            13|  137|\n",
      "|            12|  117|\n",
      "|            17|  106|\n",
      "|            11|  100|\n",
      "|            20|   95|\n",
      "|            21|   91|\n",
      "|            22|   67|\n",
      "|            16|   65|\n",
      "|            15|   64|\n",
      "|            14|   57|\n",
      "|             7|   53|\n",
      "|             1|   50|\n",
      "|            10|   49|\n",
      "|             0|   49|\n",
      "|            23|   43|\n",
      "|             9|   23|\n",
      "|             6|   17|\n",
      "|             2|   17|\n",
      "|             3|   13|\n",
      "|             8|   11|\n",
      "|             4|   10|\n",
      "|             5|    5|\n",
      "+--------------+-----+\n",
      "\n"
     ]
    },
    {
     "name": "stderr",
     "output_type": "stream",
     "text": [
      "                                                                                \r"
     ]
    },
    {
     "name": "stdout",
     "output_type": "stream",
     "text": [
      "+--------------+-----+\n",
      "|published_hour|count|\n",
      "+--------------+-----+\n",
      "|            19|  343|\n",
      "|            18|  245|\n",
      "|            13|  139|\n",
      "|            12|  117|\n",
      "|            17|  108|\n",
      "|            11|  100|\n",
      "|            20|   98|\n",
      "|            21|   92|\n",
      "|            22|   67|\n",
      "|            16|   66|\n",
      "|            15|   64|\n",
      "|            14|   59|\n",
      "|             7|   53|\n",
      "|             0|   51|\n",
      "|             1|   50|\n",
      "|            10|   49|\n",
      "|            23|   44|\n",
      "|             9|   24|\n",
      "|             2|   18|\n",
      "|             6|   17|\n",
      "|             3|   14|\n",
      "|             8|   12|\n",
      "|             4|   10|\n",
      "|             5|    5|\n",
      "+--------------+-----+\n",
      "\n"
     ]
    },
    {
     "name": "stderr",
     "output_type": "stream",
     "text": [
      "                                                                                \r"
     ]
    },
    {
     "name": "stdout",
     "output_type": "stream",
     "text": [
      "+--------------+-----+\n",
      "|published_hour|count|\n",
      "+--------------+-----+\n",
      "|            19|  343|\n",
      "|            18|  245|\n",
      "|            13|  139|\n",
      "|            12|  117|\n",
      "|            17|  108|\n",
      "|            11|  100|\n",
      "|            20|   98|\n",
      "|            21|   92|\n",
      "|            22|   67|\n",
      "|            16|   66|\n",
      "|            15|   64|\n",
      "|            14|   59|\n",
      "|             7|   53|\n",
      "|             0|   51|\n",
      "|             1|   50|\n",
      "|            10|   49|\n",
      "|            23|   44|\n",
      "|             9|   24|\n",
      "|             2|   18|\n",
      "|             6|   17|\n",
      "|             3|   14|\n",
      "|             8|   12|\n",
      "|             4|   10|\n",
      "|             5|    5|\n",
      "+--------------+-----+\n",
      "\n"
     ]
    },
    {
     "name": "stderr",
     "output_type": "stream",
     "text": [
      "                                                                                \r"
     ]
    },
    {
     "name": "stdout",
     "output_type": "stream",
     "text": [
      "+--------------+-----+\n",
      "|published_hour|count|\n",
      "+--------------+-----+\n",
      "|            19|  356|\n",
      "|            18|  254|\n",
      "|            13|  141|\n",
      "|            12|  118|\n",
      "|            17|  112|\n",
      "|            11|  102|\n",
      "|            20|  100|\n",
      "|            21|   95|\n",
      "|            22|   68|\n",
      "|            16|   68|\n",
      "|            15|   68|\n",
      "|            14|   61|\n",
      "|             7|   60|\n",
      "|             1|   59|\n",
      "|             0|   52|\n",
      "|            10|   50|\n",
      "|            23|   45|\n",
      "|             9|   25|\n",
      "|             2|   19|\n",
      "|             6|   18|\n",
      "|             3|   14|\n",
      "|             8|   12|\n",
      "|             4|   10|\n",
      "|             5|    5|\n",
      "+--------------+-----+\n",
      "\n"
     ]
    },
    {
     "name": "stderr",
     "output_type": "stream",
     "text": [
      "                                                                                \r"
     ]
    },
    {
     "name": "stdout",
     "output_type": "stream",
     "text": [
      "+--------------+-----+\n",
      "|published_hour|count|\n",
      "+--------------+-----+\n",
      "|            19|  356|\n",
      "|            18|  254|\n",
      "|            13|  141|\n",
      "|            12|  118|\n",
      "|            17|  112|\n",
      "|            11|  102|\n",
      "|            20|  100|\n",
      "|            21|   95|\n",
      "|            22|   68|\n",
      "|            16|   68|\n",
      "|            15|   68|\n",
      "|            14|   61|\n",
      "|             7|   60|\n",
      "|             1|   59|\n",
      "|             0|   52|\n",
      "|            10|   50|\n",
      "|            23|   45|\n",
      "|             9|   25|\n",
      "|             2|   19|\n",
      "|             6|   18|\n",
      "|             3|   14|\n",
      "|             8|   12|\n",
      "|             4|   10|\n",
      "|             5|    5|\n",
      "+--------------+-----+\n",
      "\n"
     ]
    },
    {
     "name": "stderr",
     "output_type": "stream",
     "text": [
      "                                                                                \r"
     ]
    },
    {
     "name": "stdout",
     "output_type": "stream",
     "text": [
      "+--------------+-----+\n",
      "|published_hour|count|\n",
      "+--------------+-----+\n",
      "|            19|  364|\n",
      "|            18|  258|\n",
      "|            13|  144|\n",
      "|            12|  121|\n",
      "|            17|  112|\n",
      "|            20|  103|\n",
      "|            11|  103|\n",
      "|            21|   96|\n",
      "|            22|   68|\n",
      "|            16|   68|\n",
      "|            15|   68|\n",
      "|            14|   65|\n",
      "|             7|   61|\n",
      "|             1|   59|\n",
      "|             0|   52|\n",
      "|            10|   51|\n",
      "|            23|   46|\n",
      "|             9|   25|\n",
      "|             2|   19|\n",
      "|             6|   18|\n",
      "|             3|   14|\n",
      "|             8|   12|\n",
      "|             4|   10|\n",
      "|             5|    6|\n",
      "+--------------+-----+\n",
      "\n"
     ]
    },
    {
     "name": "stderr",
     "output_type": "stream",
     "text": [
      "                                                                                \r"
     ]
    },
    {
     "name": "stdout",
     "output_type": "stream",
     "text": [
      "+--------------+-----+\n",
      "|published_hour|count|\n",
      "+--------------+-----+\n",
      "|            19|  373|\n",
      "|            18|  264|\n",
      "|            13|  147|\n",
      "|            12|  126|\n",
      "|            17|  115|\n",
      "|            11|  115|\n",
      "|            20|  105|\n",
      "|            21|  100|\n",
      "|            15|   70|\n",
      "|            16|   69|\n",
      "|            22|   68|\n",
      "|            14|   67|\n",
      "|             7|   61|\n",
      "|             1|   59|\n",
      "|            10|   52|\n",
      "|             0|   52|\n",
      "|            23|   47|\n",
      "|             9|   25|\n",
      "|             2|   19|\n",
      "|             6|   18|\n",
      "|             3|   14|\n",
      "|             8|   12|\n",
      "|             4|   10|\n",
      "|             5|    6|\n",
      "+--------------+-----+\n",
      "\n"
     ]
    },
    {
     "name": "stderr",
     "output_type": "stream",
     "text": [
      "                                                                                \r"
     ]
    },
    {
     "name": "stdout",
     "output_type": "stream",
     "text": [
      "+--------------+-----+\n",
      "|published_hour|count|\n",
      "+--------------+-----+\n",
      "|            19|  373|\n",
      "|            18|  264|\n",
      "|            13|  147|\n",
      "|            12|  126|\n",
      "|            17|  115|\n",
      "|            11|  115|\n",
      "|            20|  105|\n",
      "|            21|  100|\n",
      "|            15|   70|\n",
      "|            16|   69|\n",
      "|            22|   68|\n",
      "|            14|   67|\n",
      "|             7|   61|\n",
      "|             1|   59|\n",
      "|            10|   52|\n",
      "|             0|   52|\n",
      "|            23|   47|\n",
      "|             9|   25|\n",
      "|             2|   19|\n",
      "|             6|   18|\n",
      "|             3|   14|\n",
      "|             8|   12|\n",
      "|             4|   10|\n",
      "|             5|    6|\n",
      "+--------------+-----+\n",
      "\n"
     ]
    },
    {
     "name": "stderr",
     "output_type": "stream",
     "text": [
      "                                                                                \r"
     ]
    },
    {
     "name": "stdout",
     "output_type": "stream",
     "text": [
      "+--------------+-----+\n",
      "|published_hour|count|\n",
      "+--------------+-----+\n",
      "|            19|  383|\n",
      "|            18|  274|\n",
      "|            13|  147|\n",
      "|            12|  129|\n",
      "|            17|  117|\n",
      "|            11|  116|\n",
      "|            20|  109|\n",
      "|            21|  102|\n",
      "|            16|   71|\n",
      "|            15|   70|\n",
      "|            22|   69|\n",
      "|            14|   67|\n",
      "|             7|   62|\n",
      "|             1|   60|\n",
      "|            10|   54|\n",
      "|             0|   53|\n",
      "|            23|   48|\n",
      "|             9|   26|\n",
      "|             6|   20|\n",
      "|             2|   20|\n",
      "|             3|   15|\n",
      "|             8|   12|\n",
      "|             4|   11|\n",
      "|             5|    6|\n",
      "+--------------+-----+\n",
      "\n"
     ]
    },
    {
     "name": "stderr",
     "output_type": "stream",
     "text": [
      "                                                                                \r"
     ]
    },
    {
     "name": "stdout",
     "output_type": "stream",
     "text": [
      "+--------------+-----+\n",
      "|published_hour|count|\n",
      "+--------------+-----+\n",
      "|            19|  394|\n",
      "|            18|  284|\n",
      "|            13|  149|\n",
      "|            12|  131|\n",
      "|            17|  119|\n",
      "|            11|  116|\n",
      "|            20|  110|\n",
      "|            21|  103|\n",
      "|            16|   71|\n",
      "|            22|   70|\n",
      "|            15|   70|\n",
      "|            14|   67|\n",
      "|             7|   62|\n",
      "|             1|   60|\n",
      "|            10|   55|\n",
      "|             0|   54|\n",
      "|            23|   48|\n",
      "|             9|   27|\n",
      "|             2|   21|\n",
      "|             6|   20|\n",
      "|             3|   15|\n",
      "|             8|   12|\n",
      "|             4|   11|\n",
      "|             5|    6|\n",
      "+--------------+-----+\n",
      "\n"
     ]
    },
    {
     "name": "stderr",
     "output_type": "stream",
     "text": [
      "                                                                                \r"
     ]
    },
    {
     "name": "stdout",
     "output_type": "stream",
     "text": [
      "+--------------+-----+\n",
      "|published_hour|count|\n",
      "+--------------+-----+\n",
      "|            19|  409|\n",
      "|            18|  291|\n",
      "|            13|  153|\n",
      "|            12|  134|\n",
      "|            17|  124|\n",
      "|            11|  120|\n",
      "|            20|  113|\n",
      "|            21|  105|\n",
      "|            16|   73|\n",
      "|            15|   73|\n",
      "|            22|   71|\n",
      "|            14|   68|\n",
      "|             7|   62|\n",
      "|             1|   60|\n",
      "|            10|   57|\n",
      "|             0|   54|\n",
      "|            23|   50|\n",
      "|             9|   27|\n",
      "|             2|   21|\n",
      "|             6|   20|\n",
      "|             3|   16|\n",
      "|             8|   12|\n",
      "|             4|   11|\n",
      "|             5|    6|\n",
      "+--------------+-----+\n",
      "\n"
     ]
    },
    {
     "name": "stderr",
     "output_type": "stream",
     "text": [
      "                                                                                \r"
     ]
    },
    {
     "name": "stdout",
     "output_type": "stream",
     "text": [
      "+--------------+-----+\n",
      "|published_hour|count|\n",
      "+--------------+-----+\n",
      "|            19|  409|\n",
      "|            18|  291|\n",
      "|            13|  153|\n",
      "|            12|  134|\n",
      "|            17|  124|\n",
      "|            11|  120|\n",
      "|            20|  113|\n",
      "|            21|  105|\n",
      "|            16|   73|\n",
      "|            15|   73|\n",
      "|            22|   71|\n",
      "|            14|   68|\n",
      "|             7|   62|\n",
      "|             1|   60|\n",
      "|            10|   57|\n",
      "|             0|   54|\n",
      "|            23|   50|\n",
      "|             9|   27|\n",
      "|             2|   21|\n",
      "|             6|   20|\n",
      "|             3|   16|\n",
      "|             8|   12|\n",
      "|             4|   11|\n",
      "|             5|    6|\n",
      "+--------------+-----+\n",
      "\n"
     ]
    },
    {
     "name": "stderr",
     "output_type": "stream",
     "text": [
      "                                                                                \r"
     ]
    },
    {
     "name": "stdout",
     "output_type": "stream",
     "text": [
      "+--------------+-----+\n",
      "|published_hour|count|\n",
      "+--------------+-----+\n",
      "|            19|  419|\n",
      "|            18|  301|\n",
      "|            13|  159|\n",
      "|            12|  136|\n",
      "|            17|  127|\n",
      "|            11|  120|\n",
      "|            20|  113|\n",
      "|            21|  108|\n",
      "|            15|   75|\n",
      "|            16|   73|\n",
      "|            22|   71|\n",
      "|            14|   69|\n",
      "|             7|   63|\n",
      "|             1|   61|\n",
      "|            10|   58|\n",
      "|             0|   56|\n",
      "|            23|   51|\n",
      "|             9|   27|\n",
      "|             2|   21|\n",
      "|             6|   20|\n",
      "|             3|   16|\n",
      "|             8|   12|\n",
      "|             4|   11|\n",
      "|             5|    6|\n",
      "+--------------+-----+\n",
      "\n"
     ]
    },
    {
     "name": "stderr",
     "output_type": "stream",
     "text": [
      "                                                                                \r"
     ]
    },
    {
     "name": "stdout",
     "output_type": "stream",
     "text": [
      "+--------------+-----+\n",
      "|published_hour|count|\n",
      "+--------------+-----+\n",
      "|            19|  437|\n",
      "|            18|  304|\n",
      "|            13|  159|\n",
      "|            12|  136|\n",
      "|            17|  129|\n",
      "|            11|  121|\n",
      "|            20|  116|\n",
      "|            21|  109|\n",
      "|            15|   77|\n",
      "|            16|   73|\n",
      "|            22|   72|\n",
      "|            14|   70|\n",
      "|             7|   67|\n",
      "|             1|   64|\n",
      "|            10|   58|\n",
      "|             0|   58|\n",
      "|            23|   51|\n",
      "|             9|   27|\n",
      "|             2|   21|\n",
      "|             6|   20|\n",
      "|             3|   17|\n",
      "|             8|   12|\n",
      "|             4|   11|\n",
      "|             5|    6|\n",
      "+--------------+-----+\n",
      "\n"
     ]
    },
    {
     "name": "stderr",
     "output_type": "stream",
     "text": [
      "                                                                                \r"
     ]
    },
    {
     "name": "stdout",
     "output_type": "stream",
     "text": [
      "+--------------+-----+\n",
      "|published_hour|count|\n",
      "+--------------+-----+\n",
      "|            19|  443|\n",
      "|            18|  307|\n",
      "|            13|  161|\n",
      "|            12|  138|\n",
      "|            17|  130|\n",
      "|            11|  125|\n",
      "|            20|  116|\n",
      "|            21|  109|\n",
      "|            15|   81|\n",
      "|            16|   75|\n",
      "|            22|   72|\n",
      "|            14|   71|\n",
      "|             7|   67|\n",
      "|             1|   66|\n",
      "|             0|   60|\n",
      "|            10|   59|\n",
      "|            23|   51|\n",
      "|             9|   27|\n",
      "|             2|   21|\n",
      "|             6|   20|\n",
      "|             3|   17|\n",
      "|             4|   12|\n",
      "|             8|   12|\n",
      "|             5|    6|\n",
      "+--------------+-----+\n",
      "\n"
     ]
    },
    {
     "name": "stderr",
     "output_type": "stream",
     "text": [
      "                                                                                \r"
     ]
    },
    {
     "name": "stdout",
     "output_type": "stream",
     "text": [
      "+--------------+-----+\n",
      "|published_hour|count|\n",
      "+--------------+-----+\n",
      "|            19|  454|\n",
      "|            18|  313|\n",
      "|            13|  164|\n",
      "|            12|  141|\n",
      "|            11|  134|\n",
      "|            17|  132|\n",
      "|            20|  121|\n",
      "|            21|  114|\n",
      "|            15|   83|\n",
      "|            16|   77|\n",
      "|            14|   75|\n",
      "|            22|   72|\n",
      "|             7|   67|\n",
      "|             1|   66|\n",
      "|             0|   64|\n",
      "|            10|   61|\n",
      "|            23|   52|\n",
      "|             9|   30|\n",
      "|             2|   21|\n",
      "|             6|   20|\n",
      "|             3|   17|\n",
      "|             8|   13|\n",
      "|             4|   12|\n",
      "|             5|    6|\n",
      "+--------------+-----+\n",
      "\n"
     ]
    },
    {
     "name": "stderr",
     "output_type": "stream",
     "text": [
      "                                                                                \r"
     ]
    },
    {
     "name": "stdout",
     "output_type": "stream",
     "text": [
      "+--------------+-----+\n",
      "|published_hour|count|\n",
      "+--------------+-----+\n",
      "|            19|  460|\n",
      "|            18|  317|\n",
      "|            13|  167|\n",
      "|            12|  142|\n",
      "|            17|  135|\n",
      "|            11|  135|\n",
      "|            20|  125|\n",
      "|            21|  118|\n",
      "|            15|   83|\n",
      "|            16|   78|\n",
      "|            14|   75|\n",
      "|            22|   73|\n",
      "|             7|   67|\n",
      "|             1|   66|\n",
      "|             0|   66|\n",
      "|            10|   62|\n",
      "|            23|   53|\n",
      "|             9|   31|\n",
      "|             2|   23|\n",
      "|             6|   20|\n",
      "|             3|   17|\n",
      "|             8|   13|\n",
      "|             4|   12|\n",
      "|             5|    7|\n",
      "+--------------+-----+\n",
      "\n"
     ]
    },
    {
     "name": "stderr",
     "output_type": "stream",
     "text": [
      "                                                                                \r"
     ]
    },
    {
     "name": "stdout",
     "output_type": "stream",
     "text": [
      "+--------------+-----+\n",
      "|published_hour|count|\n",
      "+--------------+-----+\n",
      "|            19|  473|\n",
      "|            18|  321|\n",
      "|            13|  167|\n",
      "|            12|  142|\n",
      "|            17|  138|\n",
      "|            11|  135|\n",
      "|            20|  126|\n",
      "|            21|  120|\n",
      "|            15|   84|\n",
      "|            16|   82|\n",
      "|            22|   75|\n",
      "|            14|   75|\n",
      "|             7|   69|\n",
      "|             1|   67|\n",
      "|             0|   67|\n",
      "|            10|   62|\n",
      "|            23|   55|\n",
      "|             9|   31|\n",
      "|             2|   23|\n",
      "|             6|   21|\n",
      "|             3|   18|\n",
      "|             8|   13|\n",
      "|             4|   12|\n",
      "|             5|    8|\n",
      "+--------------+-----+\n",
      "\n"
     ]
    },
    {
     "name": "stderr",
     "output_type": "stream",
     "text": [
      "                                                                                \r"
     ]
    },
    {
     "name": "stdout",
     "output_type": "stream",
     "text": [
      "+--------------+-----+\n",
      "|published_hour|count|\n",
      "+--------------+-----+\n",
      "|            19|  486|\n",
      "|            18|  330|\n",
      "|            13|  169|\n",
      "|            12|  143|\n",
      "|            17|  140|\n",
      "|            11|  135|\n",
      "|            20|  133|\n",
      "|            21|  126|\n",
      "|            15|   85|\n",
      "|            16|   82|\n",
      "|            22|   77|\n",
      "|            14|   77|\n",
      "|             7|   70|\n",
      "|             0|   69|\n",
      "|             1|   67|\n",
      "|            10|   62|\n",
      "|            23|   58|\n",
      "|             9|   32|\n",
      "|             2|   23|\n",
      "|             6|   21|\n",
      "|             3|   19|\n",
      "|             8|   13|\n",
      "|             4|   12|\n",
      "|             5|    8|\n",
      "+--------------+-----+\n",
      "\n"
     ]
    },
    {
     "name": "stderr",
     "output_type": "stream",
     "text": [
      "                                                                                \r"
     ]
    },
    {
     "name": "stdout",
     "output_type": "stream",
     "text": [
      "+--------------+-----+\n",
      "|published_hour|count|\n",
      "+--------------+-----+\n",
      "|            19|  486|\n",
      "|            18|  330|\n",
      "|            13|  169|\n",
      "|            12|  143|\n",
      "|            17|  140|\n",
      "|            11|  135|\n",
      "|            20|  133|\n",
      "|            21|  126|\n",
      "|            15|   85|\n",
      "|            16|   82|\n",
      "|            22|   77|\n",
      "|            14|   77|\n",
      "|             7|   70|\n",
      "|             0|   69|\n",
      "|             1|   67|\n",
      "|            10|   62|\n",
      "|            23|   58|\n",
      "|             9|   32|\n",
      "|             2|   23|\n",
      "|             6|   21|\n",
      "|             3|   19|\n",
      "|             8|   13|\n",
      "|             4|   12|\n",
      "|             5|    8|\n",
      "+--------------+-----+\n",
      "\n"
     ]
    },
    {
     "name": "stderr",
     "output_type": "stream",
     "text": [
      "                                                                                \r"
     ]
    },
    {
     "name": "stdout",
     "output_type": "stream",
     "text": [
      "+--------------+-----+\n",
      "|published_hour|count|\n",
      "+--------------+-----+\n",
      "|            19|  495|\n",
      "|            18|  336|\n",
      "|            13|  169|\n",
      "|            17|  146|\n",
      "|            12|  144|\n",
      "|            11|  136|\n",
      "|            20|  135|\n",
      "|            21|  127|\n",
      "|            15|   87|\n",
      "|            16|   83|\n",
      "|            14|   80|\n",
      "|            22|   77|\n",
      "|             7|   73|\n",
      "|             0|   71|\n",
      "|             1|   68|\n",
      "|            10|   63|\n",
      "|            23|   59|\n",
      "|             9|   32|\n",
      "|             2|   23|\n",
      "|             6|   22|\n",
      "|             3|   20|\n",
      "|             8|   14|\n",
      "|             4|   12|\n",
      "|             5|    8|\n",
      "+--------------+-----+\n",
      "\n"
     ]
    },
    {
     "name": "stderr",
     "output_type": "stream",
     "text": [
      "                                                                                \r"
     ]
    },
    {
     "name": "stdout",
     "output_type": "stream",
     "text": [
      "+--------------+-----+\n",
      "|published_hour|count|\n",
      "+--------------+-----+\n",
      "|            19|  506|\n",
      "|            18|  344|\n",
      "|            13|  176|\n",
      "|            17|  153|\n",
      "|            12|  145|\n",
      "|            11|  137|\n",
      "|            20|  136|\n",
      "|            21|  128|\n",
      "|            15|   91|\n",
      "|            16|   84|\n",
      "|             7|   82|\n",
      "|            14|   81|\n",
      "|            22|   79|\n",
      "|             0|   74|\n",
      "|             1|   71|\n",
      "|            10|   63|\n",
      "|            23|   59|\n",
      "|             9|   32|\n",
      "|             2|   24|\n",
      "|             6|   22|\n",
      "|             3|   20|\n",
      "|             8|   14|\n",
      "|             4|   12|\n",
      "|             5|    8|\n",
      "+--------------+-----+\n",
      "\n"
     ]
    },
    {
     "name": "stderr",
     "output_type": "stream",
     "text": [
      "                                                                                \r"
     ]
    },
    {
     "name": "stdout",
     "output_type": "stream",
     "text": [
      "+--------------+-----+\n",
      "|published_hour|count|\n",
      "+--------------+-----+\n",
      "|            19|  513|\n",
      "|            18|  347|\n",
      "|            13|  180|\n",
      "|            17|  155|\n",
      "|            12|  147|\n",
      "|            11|  142|\n",
      "|            20|  137|\n",
      "|            21|  129|\n",
      "|            15|   93|\n",
      "|            16|   84|\n",
      "|             7|   83|\n",
      "|            14|   83|\n",
      "|            22|   79|\n",
      "|             0|   74|\n",
      "|             1|   72|\n",
      "|            10|   64|\n",
      "|            23|   60|\n",
      "|             9|   33|\n",
      "|             2|   24|\n",
      "|             6|   23|\n",
      "|             3|   20|\n",
      "|             8|   14|\n",
      "|             4|   12|\n",
      "|             5|    8|\n",
      "+--------------+-----+\n",
      "\n"
     ]
    },
    {
     "name": "stderr",
     "output_type": "stream",
     "text": [
      "                                                                                \r"
     ]
    },
    {
     "name": "stdout",
     "output_type": "stream",
     "text": [
      "+--------------+-----+\n",
      "|published_hour|count|\n",
      "+--------------+-----+\n",
      "|            19|  521|\n",
      "|            18|  354|\n",
      "|            13|  181|\n",
      "|            17|  157|\n",
      "|            12|  152|\n",
      "|            11|  148|\n",
      "|            20|  142|\n",
      "|            21|  131|\n",
      "|            15|   95|\n",
      "|            14|   89|\n",
      "|            16|   87|\n",
      "|             7|   83|\n",
      "|            22|   80|\n",
      "|             0|   75|\n",
      "|             1|   72|\n",
      "|            10|   65|\n",
      "|            23|   61|\n",
      "|             9|   34|\n",
      "|             2|   24|\n",
      "|             6|   23|\n",
      "|             3|   20|\n",
      "|             8|   14|\n",
      "|             4|   12|\n",
      "|             5|    8|\n",
      "+--------------+-----+\n",
      "\n"
     ]
    },
    {
     "name": "stderr",
     "output_type": "stream",
     "text": [
      "                                                                                \r"
     ]
    },
    {
     "name": "stdout",
     "output_type": "stream",
     "text": [
      "+--------------+-----+\n",
      "|published_hour|count|\n",
      "+--------------+-----+\n",
      "|            19|  527|\n",
      "|            18|  363|\n",
      "|            13|  183|\n",
      "|            17|  160|\n",
      "|            12|  153|\n",
      "|            11|  149|\n",
      "|            20|  143|\n",
      "|            21|  132|\n",
      "|            15|   96|\n",
      "|            14|   89|\n",
      "|            16|   88|\n",
      "|             7|   84|\n",
      "|            22|   82|\n",
      "|             0|   76|\n",
      "|             1|   73|\n",
      "|            10|   65|\n",
      "|            23|   61|\n",
      "|             9|   34|\n",
      "|             2|   25|\n",
      "|             6|   23|\n",
      "|             3|   22|\n",
      "|             8|   14|\n",
      "|             4|   12|\n",
      "|             5|    8|\n",
      "+--------------+-----+\n",
      "\n"
     ]
    },
    {
     "name": "stderr",
     "output_type": "stream",
     "text": [
      "                                                                                \r"
     ]
    },
    {
     "name": "stdout",
     "output_type": "stream",
     "text": [
      "+--------------+-----+\n",
      "|published_hour|count|\n",
      "+--------------+-----+\n",
      "|            19|  537|\n",
      "|            18|  371|\n",
      "|            13|  185|\n",
      "|            17|  164|\n",
      "|            12|  154|\n",
      "|            11|  149|\n",
      "|            20|  145|\n",
      "|            21|  135|\n",
      "|            15|   98|\n",
      "|            14|   89|\n",
      "|            16|   88|\n",
      "|             7|   85|\n",
      "|            22|   84|\n",
      "|             0|   76|\n",
      "|             1|   73|\n",
      "|            10|   65|\n",
      "|            23|   62|\n",
      "|             9|   35|\n",
      "|             2|   26|\n",
      "|             6|   23|\n",
      "|             3|   23|\n",
      "|             8|   15|\n",
      "|             4|   12|\n",
      "|             5|   10|\n",
      "+--------------+-----+\n",
      "\n"
     ]
    },
    {
     "name": "stderr",
     "output_type": "stream",
     "text": [
      "                                                                                \r"
     ]
    },
    {
     "name": "stdout",
     "output_type": "stream",
     "text": [
      "+--------------+-----+\n",
      "|published_hour|count|\n",
      "+--------------+-----+\n",
      "|            19|  547|\n",
      "|            18|  385|\n",
      "|            13|  188|\n",
      "|            17|  168|\n",
      "|            12|  157|\n",
      "|            11|  149|\n",
      "|            20|  148|\n",
      "|            21|  137|\n",
      "|            15|  101|\n",
      "|            14|   91|\n",
      "|            16|   89|\n",
      "|             7|   89|\n",
      "|            22|   85|\n",
      "|             0|   78|\n",
      "|             1|   74|\n",
      "|            10|   66|\n",
      "|            23|   63|\n",
      "|             9|   36|\n",
      "|             2|   26|\n",
      "|             3|   25|\n",
      "|             6|   24|\n",
      "|             8|   15|\n",
      "|             4|   12|\n",
      "|             5|   10|\n",
      "+--------------+-----+\n",
      "\n"
     ]
    },
    {
     "name": "stderr",
     "output_type": "stream",
     "text": [
      "                                                                                \r"
     ]
    },
    {
     "name": "stdout",
     "output_type": "stream",
     "text": [
      "+--------------+-----+\n",
      "|published_hour|count|\n",
      "+--------------+-----+\n",
      "|            19|  547|\n",
      "|            18|  385|\n",
      "|            13|  188|\n",
      "|            17|  168|\n",
      "|            12|  157|\n",
      "|            11|  149|\n",
      "|            20|  148|\n",
      "|            21|  137|\n",
      "|            15|  101|\n",
      "|            14|   91|\n",
      "|            16|   89|\n",
      "|             7|   89|\n",
      "|            22|   85|\n",
      "|             0|   78|\n",
      "|             1|   74|\n",
      "|            10|   66|\n",
      "|            23|   63|\n",
      "|             9|   36|\n",
      "|             2|   26|\n",
      "|             3|   25|\n",
      "|             6|   24|\n",
      "|             8|   15|\n",
      "|             4|   12|\n",
      "|             5|   10|\n",
      "+--------------+-----+\n",
      "\n"
     ]
    },
    {
     "name": "stderr",
     "output_type": "stream",
     "text": [
      "                                                                                \r"
     ]
    },
    {
     "name": "stdout",
     "output_type": "stream",
     "text": [
      "+--------------+-----+\n",
      "|published_hour|count|\n",
      "+--------------+-----+\n",
      "|            19|  557|\n",
      "|            18|  400|\n",
      "|            13|  189|\n",
      "|            17|  170|\n",
      "|            12|  160|\n",
      "|            20|  150|\n",
      "|            11|  149|\n",
      "|            21|  138|\n",
      "|            15|  101|\n",
      "|            14|   91|\n",
      "|            16|   90|\n",
      "|             7|   89|\n",
      "|            22|   87|\n",
      "|             0|   78|\n",
      "|             1|   74|\n",
      "|            10|   67|\n",
      "|            23|   63|\n",
      "|             9|   36|\n",
      "|             2|   26|\n",
      "|             3|   25|\n",
      "|             6|   24|\n",
      "|             8|   15|\n",
      "|             4|   12|\n",
      "|             5|   10|\n",
      "+--------------+-----+\n",
      "\n"
     ]
    },
    {
     "name": "stderr",
     "output_type": "stream",
     "text": [
      "                                                                                \r"
     ]
    },
    {
     "name": "stdout",
     "output_type": "stream",
     "text": [
      "+--------------+-----+\n",
      "|published_hour|count|\n",
      "+--------------+-----+\n",
      "|            19|  569|\n",
      "|            18|  410|\n",
      "|            13|  190|\n",
      "|            17|  175|\n",
      "|            12|  164|\n",
      "|            20|  150|\n",
      "|            11|  149|\n",
      "|            21|  139|\n",
      "|            15|  102|\n",
      "|            14|   93|\n",
      "|            16|   90|\n",
      "|             7|   90|\n",
      "|            22|   87|\n",
      "|             1|   81|\n",
      "|             0|   79|\n",
      "|            10|   71|\n",
      "|            23|   63|\n",
      "|             9|   37|\n",
      "|             2|   27|\n",
      "|             3|   25|\n",
      "|             6|   24|\n",
      "|             8|   16|\n",
      "|             4|   12|\n",
      "|             5|   10|\n",
      "+--------------+-----+\n",
      "\n"
     ]
    },
    {
     "name": "stderr",
     "output_type": "stream",
     "text": [
      "                                                                                \r"
     ]
    },
    {
     "name": "stdout",
     "output_type": "stream",
     "text": [
      "+--------------+-----+\n",
      "|published_hour|count|\n",
      "+--------------+-----+\n",
      "|            19|  574|\n",
      "|            18|  415|\n",
      "|            13|  191|\n",
      "|            17|  176|\n",
      "|            12|  169|\n",
      "|            20|  151|\n",
      "|            11|  150|\n",
      "|            21|  139|\n",
      "|            15|  103|\n",
      "|            14|   94|\n",
      "|            16|   92|\n",
      "|             7|   90|\n",
      "|            22|   87|\n",
      "|             1|   81|\n",
      "|             0|   79|\n",
      "|            10|   72|\n",
      "|            23|   64|\n",
      "|             9|   38|\n",
      "|             2|   28|\n",
      "|             3|   25|\n",
      "|             6|   24|\n",
      "|             8|   17|\n",
      "|             4|   12|\n",
      "|             5|   10|\n",
      "+--------------+-----+\n",
      "\n"
     ]
    },
    {
     "name": "stderr",
     "output_type": "stream",
     "text": [
      "                                                                                \r"
     ]
    },
    {
     "name": "stdout",
     "output_type": "stream",
     "text": [
      "+--------------+-----+\n",
      "|published_hour|count|\n",
      "+--------------+-----+\n",
      "|            19|  574|\n",
      "|            18|  415|\n",
      "|            13|  191|\n",
      "|            17|  176|\n",
      "|            12|  169|\n",
      "|            20|  151|\n",
      "|            11|  150|\n",
      "|            21|  139|\n",
      "|            15|  103|\n",
      "|            14|   94|\n",
      "|            16|   92|\n",
      "|             7|   90|\n",
      "|            22|   87|\n",
      "|             1|   81|\n",
      "|             0|   79|\n",
      "|            10|   72|\n",
      "|            23|   64|\n",
      "|             9|   38|\n",
      "|             2|   28|\n",
      "|             3|   25|\n",
      "|             6|   24|\n",
      "|             8|   17|\n",
      "|             4|   12|\n",
      "|             5|   10|\n",
      "+--------------+-----+\n",
      "\n"
     ]
    },
    {
     "name": "stderr",
     "output_type": "stream",
     "text": [
      "                                                                                \r"
     ]
    },
    {
     "name": "stdout",
     "output_type": "stream",
     "text": [
      "+--------------+-----+\n",
      "|published_hour|count|\n",
      "+--------------+-----+\n",
      "|            19|  582|\n",
      "|            18|  421|\n",
      "|            13|  193|\n",
      "|            17|  180|\n",
      "|            12|  177|\n",
      "|            11|  157|\n",
      "|            20|  155|\n",
      "|            21|  139|\n",
      "|            15|  105|\n",
      "|            14|   96|\n",
      "|            16|   94|\n",
      "|             7|   90|\n",
      "|            22|   88|\n",
      "|             1|   81|\n",
      "|             0|   79|\n",
      "|            10|   73|\n",
      "|            23|   64|\n",
      "|             9|   40|\n",
      "|             2|   29|\n",
      "|             3|   25|\n",
      "|             6|   24|\n",
      "|             8|   17|\n",
      "|             4|   12|\n",
      "|             5|   10|\n",
      "+--------------+-----+\n",
      "\n"
     ]
    },
    {
     "name": "stderr",
     "output_type": "stream",
     "text": [
      "                                                                                \r"
     ]
    },
    {
     "name": "stdout",
     "output_type": "stream",
     "text": [
      "+--------------+-----+\n",
      "|published_hour|count|\n",
      "+--------------+-----+\n",
      "|            19|  582|\n",
      "|            18|  421|\n",
      "|            13|  193|\n",
      "|            17|  180|\n",
      "|            12|  177|\n",
      "|            11|  157|\n",
      "|            20|  155|\n",
      "|            21|  139|\n",
      "|            15|  105|\n",
      "|            14|   96|\n",
      "|            16|   94|\n",
      "|             7|   90|\n",
      "|            22|   88|\n",
      "|             1|   81|\n",
      "|             0|   79|\n",
      "|            10|   73|\n",
      "|            23|   64|\n",
      "|             9|   40|\n",
      "|             2|   29|\n",
      "|             3|   25|\n",
      "|             6|   24|\n",
      "|             8|   17|\n",
      "|             4|   12|\n",
      "|             5|   10|\n",
      "+--------------+-----+\n",
      "\n"
     ]
    },
    {
     "name": "stderr",
     "output_type": "stream",
     "text": [
      "                                                                                \r"
     ]
    },
    {
     "name": "stdout",
     "output_type": "stream",
     "text": [
      "+--------------+-----+\n",
      "|published_hour|count|\n",
      "+--------------+-----+\n",
      "|            19|  592|\n",
      "|            18|  432|\n",
      "|            13|  196|\n",
      "|            12|  182|\n",
      "|            17|  181|\n",
      "|            20|  161|\n",
      "|            11|  158|\n",
      "|            21|  142|\n",
      "|            15|  108|\n",
      "|            14|   96|\n",
      "|            16|   94|\n",
      "|             7|   90|\n",
      "|            22|   89|\n",
      "|             1|   81|\n",
      "|             0|   80|\n",
      "|            10|   73|\n",
      "|            23|   64|\n",
      "|             9|   40|\n",
      "|             2|   29|\n",
      "|             6|   26|\n",
      "|             3|   25|\n",
      "|             8|   19|\n",
      "|             4|   12|\n",
      "|             5|   10|\n",
      "+--------------+-----+\n",
      "\n"
     ]
    },
    {
     "name": "stderr",
     "output_type": "stream",
     "text": [
      "                                                                                \r"
     ]
    },
    {
     "name": "stdout",
     "output_type": "stream",
     "text": [
      "+--------------+-----+\n",
      "|published_hour|count|\n",
      "+--------------+-----+\n",
      "|            19|  592|\n",
      "|            18|  432|\n",
      "|            13|  196|\n",
      "|            12|  182|\n",
      "|            17|  181|\n",
      "|            20|  161|\n",
      "|            11|  158|\n",
      "|            21|  142|\n",
      "|            15|  108|\n",
      "|            14|   96|\n",
      "|            16|   94|\n",
      "|             7|   90|\n",
      "|            22|   89|\n",
      "|             1|   81|\n",
      "|             0|   80|\n",
      "|            10|   73|\n",
      "|            23|   64|\n",
      "|             9|   40|\n",
      "|             2|   29|\n",
      "|             6|   26|\n",
      "|             3|   25|\n",
      "|             8|   19|\n",
      "|             4|   12|\n",
      "|             5|   10|\n",
      "+--------------+-----+\n",
      "\n"
     ]
    },
    {
     "name": "stderr",
     "output_type": "stream",
     "text": [
      "                                                                                \r"
     ]
    },
    {
     "name": "stdout",
     "output_type": "stream",
     "text": [
      "+--------------+-----+\n",
      "|published_hour|count|\n",
      "+--------------+-----+\n",
      "|            19|  605|\n",
      "|            18|  436|\n",
      "|            13|  198|\n",
      "|            17|  184|\n",
      "|            12|  182|\n",
      "|            20|  162|\n",
      "|            11|  158|\n",
      "|            21|  146|\n",
      "|            15|  110|\n",
      "|            14|   97|\n",
      "|            16|   94|\n",
      "|            22|   93|\n",
      "|             7|   90|\n",
      "|             1|   81|\n",
      "|             0|   80|\n",
      "|            10|   73|\n",
      "|            23|   65|\n",
      "|             9|   40|\n",
      "|             2|   29|\n",
      "|             6|   26|\n",
      "|             3|   25|\n",
      "|             8|   19|\n",
      "|             4|   12|\n",
      "|             5|   10|\n",
      "+--------------+-----+\n",
      "\n"
     ]
    },
    {
     "name": "stderr",
     "output_type": "stream",
     "text": [
      "                                                                                \r"
     ]
    },
    {
     "name": "stdout",
     "output_type": "stream",
     "text": [
      "+--------------+-----+\n",
      "|published_hour|count|\n",
      "+--------------+-----+\n",
      "|            19|  619|\n",
      "|            18|  447|\n",
      "|            13|  200|\n",
      "|            17|  187|\n",
      "|            12|  183|\n",
      "|            20|  165|\n",
      "|            11|  160|\n",
      "|            21|  149|\n",
      "|            15|  110|\n",
      "|            14|   99|\n",
      "|            16|   97|\n",
      "|            22|   93|\n",
      "|             7|   91|\n",
      "|             1|   83|\n",
      "|             0|   82|\n",
      "|            10|   74|\n",
      "|            23|   66|\n",
      "|             9|   40|\n",
      "|             2|   29|\n",
      "|             3|   27|\n",
      "|             6|   26|\n",
      "|             8|   19|\n",
      "|             4|   12|\n",
      "|             5|   10|\n",
      "+--------------+-----+\n",
      "\n"
     ]
    },
    {
     "name": "stderr",
     "output_type": "stream",
     "text": [
      "                                                                                \r"
     ]
    },
    {
     "name": "stdout",
     "output_type": "stream",
     "text": [
      "+--------------+-----+\n",
      "|published_hour|count|\n",
      "+--------------+-----+\n",
      "|            19|  633|\n",
      "|            18|  451|\n",
      "|            13|  206|\n",
      "|            17|  190|\n",
      "|            12|  186|\n",
      "|            20|  167|\n",
      "|            11|  160|\n",
      "|            21|  150|\n",
      "|            15|  111|\n",
      "|            14|  100|\n",
      "|            16|   99|\n",
      "|            22|   96|\n",
      "|             7|   91|\n",
      "|             1|   83|\n",
      "|             0|   83|\n",
      "|            10|   74|\n",
      "|            23|   66|\n",
      "|             9|   41|\n",
      "|             2|   30|\n",
      "|             6|   27|\n",
      "|             3|   27|\n",
      "|             8|   19|\n",
      "|             4|   12|\n",
      "|             5|   10|\n",
      "+--------------+-----+\n",
      "\n"
     ]
    },
    {
     "name": "stderr",
     "output_type": "stream",
     "text": [
      "                                                                                \r"
     ]
    },
    {
     "name": "stdout",
     "output_type": "stream",
     "text": [
      "+--------------+-----+\n",
      "|published_hour|count|\n",
      "+--------------+-----+\n",
      "|            19|  650|\n",
      "|            18|  454|\n",
      "|            13|  208|\n",
      "|            17|  195|\n",
      "|            12|  187|\n",
      "|            20|  167|\n",
      "|            11|  161|\n",
      "|            21|  152|\n",
      "|            15|  112|\n",
      "|            14|  100|\n",
      "|            22|   99|\n",
      "|            16|   99|\n",
      "|             7|   95|\n",
      "|             1|   91|\n",
      "|             0|   83|\n",
      "|            10|   74|\n",
      "|            23|   67|\n",
      "|             9|   41|\n",
      "|             2|   32|\n",
      "|             3|   28|\n",
      "|             6|   27|\n",
      "|             8|   19|\n",
      "|             4|   12|\n",
      "|             5|   10|\n",
      "+--------------+-----+\n",
      "\n"
     ]
    },
    {
     "name": "stderr",
     "output_type": "stream",
     "text": [
      "                                                                                \r"
     ]
    },
    {
     "name": "stdout",
     "output_type": "stream",
     "text": [
      "+--------------+-----+\n",
      "|published_hour|count|\n",
      "+--------------+-----+\n",
      "|            19|  658|\n",
      "|            18|  457|\n",
      "|            13|  212|\n",
      "|            17|  195|\n",
      "|            12|  190|\n",
      "|            20|  167|\n",
      "|            11|  164|\n",
      "|            21|  155|\n",
      "|            15|  115|\n",
      "|            14|  103|\n",
      "|            16|  100|\n",
      "|            22|   99|\n",
      "|             7|   95|\n",
      "|             1|   92|\n",
      "|             0|   85|\n",
      "|            10|   76|\n",
      "|            23|   67|\n",
      "|             9|   41|\n",
      "|             2|   32|\n",
      "|             3|   28|\n",
      "|             6|   27|\n",
      "|             8|   19|\n",
      "|             4|   14|\n",
      "|             5|   10|\n",
      "+--------------+-----+\n",
      "\n"
     ]
    },
    {
     "name": "stderr",
     "output_type": "stream",
     "text": [
      "                                                                                \r"
     ]
    },
    {
     "name": "stdout",
     "output_type": "stream",
     "text": [
      "+--------------+-----+\n",
      "|published_hour|count|\n",
      "+--------------+-----+\n",
      "|            19|  665|\n",
      "|            18|  461|\n",
      "|            13|  215|\n",
      "|            12|  198|\n",
      "|            17|  197|\n",
      "|            20|  170|\n",
      "|            11|  169|\n",
      "|            21|  158|\n",
      "|            15|  119|\n",
      "|            14|  104|\n",
      "|            16|  103|\n",
      "|            22|   99|\n",
      "|             7|   95|\n",
      "|             1|   92|\n",
      "|             0|   87|\n",
      "|            10|   76|\n",
      "|            23|   68|\n",
      "|             9|   41|\n",
      "|             2|   32|\n",
      "|             3|   28|\n",
      "|             6|   27|\n",
      "|             8|   21|\n",
      "|             4|   14|\n",
      "|             5|   10|\n",
      "+--------------+-----+\n",
      "\n"
     ]
    },
    {
     "name": "stderr",
     "output_type": "stream",
     "text": [
      "                                                                                \r"
     ]
    },
    {
     "name": "stdout",
     "output_type": "stream",
     "text": [
      "+--------------+-----+\n",
      "|published_hour|count|\n",
      "+--------------+-----+\n",
      "|            19|  672|\n",
      "|            18|  467|\n",
      "|            13|  216|\n",
      "|            17|  204|\n",
      "|            12|  202|\n",
      "|            20|  171|\n",
      "|            11|  170|\n",
      "|            21|  163|\n",
      "|            15|  119|\n",
      "|            14|  105|\n",
      "|            16|  103|\n",
      "|            22|  102|\n",
      "|             1|   95|\n",
      "|             7|   95|\n",
      "|             0|   87|\n",
      "|            10|   76|\n",
      "|            23|   68|\n",
      "|             9|   41|\n",
      "|             2|   32|\n",
      "|             3|   29|\n",
      "|             6|   28|\n",
      "|             8|   21|\n",
      "|             4|   14|\n",
      "|             5|   10|\n",
      "+--------------+-----+\n",
      "\n"
     ]
    },
    {
     "name": "stderr",
     "output_type": "stream",
     "text": [
      "                                                                                \r"
     ]
    },
    {
     "name": "stdout",
     "output_type": "stream",
     "text": [
      "+--------------+-----+\n",
      "|published_hour|count|\n",
      "+--------------+-----+\n",
      "|            19|  676|\n",
      "|            18|  475|\n",
      "|            13|  219|\n",
      "|            17|  205|\n",
      "|            12|  204|\n",
      "|            20|  174|\n",
      "|            11|  173|\n",
      "|            21|  167|\n",
      "|            15|  120|\n",
      "|            14|  107|\n",
      "|            16|  105|\n",
      "|            22|  102|\n",
      "|             1|   96|\n",
      "|             7|   95|\n",
      "|             0|   89|\n",
      "|            10|   77|\n",
      "|            23|   68|\n",
      "|             9|   41|\n",
      "|             2|   32|\n",
      "|             3|   29|\n",
      "|             6|   28|\n",
      "|             8|   22|\n",
      "|             4|   15|\n",
      "|             5|   10|\n",
      "+--------------+-----+\n",
      "\n"
     ]
    },
    {
     "name": "stderr",
     "output_type": "stream",
     "text": [
      "                                                                                \r"
     ]
    },
    {
     "name": "stdout",
     "output_type": "stream",
     "text": [
      "+--------------+-----+\n",
      "|published_hour|count|\n",
      "+--------------+-----+\n",
      "|            19|  689|\n",
      "|            18|  480|\n",
      "|            13|  220|\n",
      "|            12|  207|\n",
      "|            17|  207|\n",
      "|            20|  175|\n",
      "|            11|  174|\n",
      "|            21|  171|\n",
      "|            15|  120|\n",
      "|            14|  110|\n",
      "|            16|  107|\n",
      "|            22|  103|\n",
      "|             1|   97|\n",
      "|             7|   96|\n",
      "|             0|   90|\n",
      "|            10|   77|\n",
      "|            23|   68|\n",
      "|             9|   42|\n",
      "|             2|   33|\n",
      "|             3|   29|\n",
      "|             6|   28|\n",
      "|             8|   22|\n",
      "|             4|   15|\n",
      "|             5|   10|\n",
      "+--------------+-----+\n",
      "\n"
     ]
    },
    {
     "name": "stderr",
     "output_type": "stream",
     "text": [
      "                                                                                \r"
     ]
    },
    {
     "name": "stdout",
     "output_type": "stream",
     "text": [
      "+--------------+-----+\n",
      "|published_hour|count|\n",
      "+--------------+-----+\n",
      "|            19|  700|\n",
      "|            18|  489|\n",
      "|            13|  227|\n",
      "|            12|  207|\n",
      "|            17|  207|\n",
      "|            20|  178|\n",
      "|            11|  175|\n",
      "|            21|  174|\n",
      "|            15|  121|\n",
      "|            14|  111|\n",
      "|            16|  107|\n",
      "|            22|  106|\n",
      "|             1|   99|\n",
      "|             7|   96|\n",
      "|             0|   90|\n",
      "|            10|   78|\n",
      "|            23|   68|\n",
      "|             9|   42|\n",
      "|             2|   34|\n",
      "|             3|   29|\n",
      "|             6|   28|\n",
      "|             8|   23|\n",
      "|             4|   15|\n",
      "|             5|   10|\n",
      "+--------------+-----+\n",
      "\n"
     ]
    },
    {
     "name": "stderr",
     "output_type": "stream",
     "text": [
      "                                                                                \r"
     ]
    },
    {
     "name": "stdout",
     "output_type": "stream",
     "text": [
      "+--------------+-----+\n",
      "|published_hour|count|\n",
      "+--------------+-----+\n",
      "|            19|  716|\n",
      "|            18|  500|\n",
      "|            13|  233|\n",
      "|            17|  209|\n",
      "|            12|  208|\n",
      "|            20|  180|\n",
      "|            11|  180|\n",
      "|            21|  178|\n",
      "|            15|  122|\n",
      "|            14|  112|\n",
      "|            16|  109|\n",
      "|            22|  106|\n",
      "|             1|  103|\n",
      "|             7|   99|\n",
      "|             0|   91|\n",
      "|            10|   79|\n",
      "|            23|   68|\n",
      "|             9|   44|\n",
      "|             2|   35|\n",
      "|             6|   29|\n",
      "|             3|   29|\n",
      "|             8|   24|\n",
      "|             4|   15|\n",
      "|             5|   11|\n",
      "+--------------+-----+\n",
      "\n"
     ]
    },
    {
     "name": "stderr",
     "output_type": "stream",
     "text": [
      "                                                                                \r"
     ]
    },
    {
     "name": "stdout",
     "output_type": "stream",
     "text": [
      "+--------------+-----+\n",
      "|published_hour|count|\n",
      "+--------------+-----+\n",
      "|            19|  719|\n",
      "|            18|  505|\n",
      "|            13|  234|\n",
      "|            17|  211|\n",
      "|            12|  210|\n",
      "|            11|  182|\n",
      "|            20|  181|\n",
      "|            21|  180|\n",
      "|            15|  123|\n",
      "|            14|  115|\n",
      "|            16|  111|\n",
      "|            22|  107|\n",
      "|             1|  103|\n",
      "|             7|   99|\n",
      "|             0|   91|\n",
      "|            10|   80|\n",
      "|            23|   68|\n",
      "|             9|   44|\n",
      "|             2|   35|\n",
      "|             6|   29|\n",
      "|             3|   29|\n",
      "|             8|   24|\n",
      "|             4|   15|\n",
      "|             5|   11|\n",
      "+--------------+-----+\n",
      "\n"
     ]
    },
    {
     "name": "stderr",
     "output_type": "stream",
     "text": [
      "                                                                                \r"
     ]
    },
    {
     "name": "stdout",
     "output_type": "stream",
     "text": [
      "+--------------+-----+\n",
      "|published_hour|count|\n",
      "+--------------+-----+\n",
      "|            19|  727|\n",
      "|            18|  509|\n",
      "|            13|  238|\n",
      "|            12|  218|\n",
      "|            17|  213|\n",
      "|            11|  189|\n",
      "|            20|  182|\n",
      "|            21|  180|\n",
      "|            15|  125|\n",
      "|            14|  118|\n",
      "|            16|  114|\n",
      "|            22|  109|\n",
      "|             1|  105|\n",
      "|             7|   99|\n",
      "|             0|   93|\n",
      "|            10|   84|\n",
      "|            23|   70|\n",
      "|             9|   45|\n",
      "|             2|   36|\n",
      "|             3|   30|\n",
      "|             6|   29|\n",
      "|             8|   24|\n",
      "|             4|   15|\n",
      "|             5|   11|\n",
      "+--------------+-----+\n",
      "\n"
     ]
    },
    {
     "name": "stderr",
     "output_type": "stream",
     "text": [
      "[Stage 8655:=============================================>      (175 + 8) / 200]\r"
     ]
    }
   ],
   "source": [
    "activityQuery = (hour_count.writeStream.queryName('hour_count').format('memory').outputMode('complete').start())\n",
    "\n",
    "import time\n",
    "\n",
    "for x in range(100):\n",
    "    df_tempt = spark.sql('SELECT * FROM hour_count')\n",
    "    if df_tempt.count()>0:\n",
    "        df_tempt = df_tempt.dropna(subset=['published_hour'])\n",
    "        df_tempt.show(24)\n",
    "    time.sleep(1)"
   ]
  },
  {
   "cell_type": "code",
   "execution_count": 20,
   "id": "6dbbe5d4",
   "metadata": {},
   "outputs": [
    {
     "name": "stdout",
     "output_type": "stream",
     "text": [
      "23/01/18 20:02:01 WARN Shell: Interrupted while joining on: Thread[Thread-277235,5,]\n",
      "java.lang.InterruptedException\n",
      "\tat java.lang.Object.wait(Native Method)\n",
      "\tat java.lang.Thread.join(Thread.java:1257)\n",
      "\tat java.lang.Thread.join(Thread.java:1331)\n",
      "\tat org.apache.hadoop.util.Shell.joinThread(Shell.java:1042)\n",
      "\tat org.apache.hadoop.util.Shell.runCommand(Shell.java:1002)\n",
      "\tat org.apache.hadoop.util.Shell.run(Shell.java:900)\n",
      "\tat org.apache.hadoop.util.Shell$ShellCommandExecutor.execute(Shell.java:1212)\n",
      "\tat org.apache.hadoop.util.Shell.execCommand(Shell.java:1306)\n",
      "\tat org.apache.hadoop.util.Shell.execCommand(Shell.java:1288)\n",
      "\tat org.apache.hadoop.fs.FileUtil.readLink(FileUtil.java:211)\n",
      "\tat org.apache.hadoop.fs.RawLocalFileSystem.deprecatedGetFileLinkStatusInternal(RawLocalFileSystem.java:1113)\n",
      "\tat org.apache.hadoop.fs.RawLocalFileSystem.getFileLinkStatusInternal(RawLocalFileSystem.java:1102)\n",
      "\tat org.apache.hadoop.fs.RawLocalFileSystem.getFileLinkStatus(RawLocalFileSystem.java:1073)\n",
      "\tat org.apache.hadoop.fs.DelegateToFileSystem.getFileLinkStatus(DelegateToFileSystem.java:133)\n",
      "\tat org.apache.hadoop.fs.AbstractFileSystem.renameInternal(AbstractFileSystem.java:747)\n",
      "\tat org.apache.hadoop.fs.AbstractFileSystem.rename(AbstractFileSystem.java:720)\n",
      "\tat org.apache.hadoop.fs.ChecksumFs.renameInternal(ChecksumFs.java:489)\n",
      "\tat org.apache.hadoop.fs.AbstractFileSystem.rename(AbstractFileSystem.java:720)\n",
      "\tat org.apache.hadoop.fs.FileContext.rename(FileContext.java:1036)\n",
      "\tat org.apache.spark.sql.execution.streaming.FileContextBasedCheckpointFileManager.renameTempFile(CheckpointFileManager.scala:346)\n",
      "\tat org.apache.spark.sql.execution.streaming.CheckpointFileManager$RenameBasedFSDataOutputStream.close(CheckpointFileManager.scala:154)\n",
      "\tat net.jpountz.lz4.LZ4BlockOutputStream.close(LZ4BlockOutputStream.java:198)\n",
      "\tat java.io.FilterOutputStream.close(FilterOutputStream.java:159)\n",
      "\tat org.apache.spark.sql.execution.streaming.state.HDFSBackedStateStoreProvider.finalizeDeltaFile(HDFSBackedStateStoreProvider.scala:450)\n",
      "\tat org.apache.spark.sql.execution.streaming.state.HDFSBackedStateStoreProvider.org$apache$spark$sql$execution$streaming$state$HDFSBackedStateStoreProvider$$commitUpdates(HDFSBackedStateStoreProvider.scala:320)\n",
      "\tat org.apache.spark.sql.execution.streaming.state.HDFSBackedStateStoreProvider$HDFSBackedStateStore.commit(HDFSBackedStateStoreProvider.scala:141)\n",
      "\tat org.apache.spark.sql.execution.streaming.state.StreamingAggregationStateManagerBaseImpl.commit(StreamingAggregationStateManager.scala:89)\n",
      "\tat org.apache.spark.sql.execution.streaming.StateStoreSaveExec.$anonfun$doExecute$7(statefulOperators.scala:395)\n",
      "\tat scala.runtime.java8.JFunction0$mcV$sp.apply(JFunction0$mcV$sp.java:23)\n",
      "\tat org.apache.spark.util.Utils$.timeTakenMs(Utils.scala:642)\n",
      "\tat org.apache.spark.sql.execution.streaming.StateStoreWriter.timeTakenMs(statefulOperators.scala:142)\n",
      "\tat org.apache.spark.sql.execution.streaming.StateStoreWriter.timeTakenMs$(statefulOperators.scala:142)\n",
      "\tat org.apache.spark.sql.execution.streaming.StateStoreSaveExec.timeTakenMs(statefulOperators.scala:352)\n",
      "\tat org.apache.spark.sql.execution.streaming.StateStoreSaveExec.$anonfun$doExecute$5(statefulOperators.scala:395)\n",
      "\tat org.apache.spark.sql.execution.streaming.state.package$StateStoreOps.$anonfun$mapPartitionsWithStateStore$1(package.scala:68)\n",
      "\tat org.apache.spark.sql.execution.streaming.state.StateStoreRDD.compute(StateStoreRDD.scala:127)\n",
      "\tat org.apache.spark.rdd.RDD.computeOrReadCheckpoint(RDD.scala:365)\n",
      "\tat org.apache.spark.rdd.RDD.iterator(RDD.scala:329)\n",
      "\tat org.apache.spark.rdd.MapPartitionsRDD.compute(MapPartitionsRDD.scala:52)\n",
      "\tat org.apache.spark.rdd.RDD.computeOrReadCheckpoint(RDD.scala:365)\n",
      "\tat org.apache.spark.rdd.RDD.iterator(RDD.scala:329)\n",
      "\tat org.apache.spark.rdd.MapPartitionsRDD.compute(MapPartitionsRDD.scala:52)\n",
      "\tat org.apache.spark.rdd.RDD.computeOrReadCheckpoint(RDD.scala:365)\n",
      "\tat org.apache.spark.rdd.RDD.iterator(RDD.scala:329)\n",
      "\tat org.apache.spark.rdd.MapPartitionsRDD.compute(MapPartitionsRDD.scala:52)\n",
      "\tat org.apache.spark.rdd.RDD.computeOrReadCheckpoint(RDD.scala:365)\n",
      "\tat org.apache.spark.rdd.RDD.iterator(RDD.scala:329)\n",
      "\tat org.apache.spark.rdd.MapPartitionsRDD.compute(MapPartitionsRDD.scala:52)\n",
      "\tat org.apache.spark.rdd.RDD.computeOrReadCheckpoint(RDD.scala:365)\n",
      "\tat org.apache.spark.rdd.RDD.iterator(RDD.scala:329)\n",
      "\tat org.apache.spark.scheduler.ResultTask.runTask(ResultTask.scala:90)\n",
      "\tat org.apache.spark.scheduler.Task.run(Task.scala:136)\n",
      "\tat org.apache.spark.executor.Executor$TaskRunner.$anonfun$run$3(Executor.scala:548)\n",
      "\tat org.apache.spark.util.Utils$.tryWithSafeFinally(Utils.scala:1504)\n",
      "\tat org.apache.spark.executor.Executor$TaskRunner.run(Executor.scala:551)\n",
      "\tat java.util.concurrent.ThreadPoolExecutor.runWorker(ThreadPoolExecutor.java:1149)\n",
      "\tat java.util.concurrent.ThreadPoolExecutor$Worker.run(ThreadPoolExecutor.java:624)\n",
      "\tat java.lang.Thread.run(Thread.java:750)\n",
      "23/01/18 20:02:01 WARN Shell: Interrupted while joining on: Thread[Thread-277246,5,]\n",
      "java.lang.InterruptedException\n",
      "\tat java.lang.Object.wait(Native Method)\n",
      "\tat java.lang.Thread.join(Thread.java:1257)\n",
      "\tat java.lang.Thread.join(Thread.java:1331)\n",
      "\tat org.apache.hadoop.util.Shell.joinThread(Shell.java:1042)\n",
      "\tat org.apache.hadoop.util.Shell.runCommand(Shell.java:1002)\n",
      "\tat org.apache.hadoop.util.Shell.run(Shell.java:900)\n",
      "\tat org.apache.hadoop.util.Shell$ShellCommandExecutor.execute(Shell.java:1212)\n",
      "\tat org.apache.hadoop.util.Shell.execCommand(Shell.java:1306)\n",
      "\tat org.apache.hadoop.util.Shell.execCommand(Shell.java:1288)\n",
      "\tat org.apache.hadoop.fs.FileUtil.readLink(FileUtil.java:211)\n",
      "\tat org.apache.hadoop.fs.RawLocalFileSystem.deprecatedGetFileLinkStatusInternal(RawLocalFileSystem.java:1113)\n",
      "\tat org.apache.hadoop.fs.RawLocalFileSystem.getFileLinkStatusInternal(RawLocalFileSystem.java:1102)\n",
      "\tat org.apache.hadoop.fs.RawLocalFileSystem.getFileLinkStatus(RawLocalFileSystem.java:1073)\n",
      "\tat org.apache.hadoop.fs.FileSystem.rename(FileSystem.java:1574)\n",
      "\tat org.apache.hadoop.fs.DelegateToFileSystem.renameInternal(DelegateToFileSystem.java:206)\n",
      "\tat org.apache.hadoop.fs.AbstractFileSystem.renameInternal(AbstractFileSystem.java:790)\n",
      "\tat org.apache.hadoop.fs.AbstractFileSystem.rename(AbstractFileSystem.java:720)\n",
      "\tat org.apache.hadoop.fs.ChecksumFs.renameInternal(ChecksumFs.java:489)\n",
      "\tat org.apache.hadoop.fs.AbstractFileSystem.rename(AbstractFileSystem.java:720)\n",
      "\tat org.apache.hadoop.fs.FileContext.rename(FileContext.java:1036)\n",
      "\tat org.apache.spark.sql.execution.streaming.FileContextBasedCheckpointFileManager.renameTempFile(CheckpointFileManager.scala:346)\n",
      "\tat org.apache.spark.sql.execution.streaming.CheckpointFileManager$RenameBasedFSDataOutputStream.close(CheckpointFileManager.scala:154)\n",
      "\tat net.jpountz.lz4.LZ4BlockOutputStream.close(LZ4BlockOutputStream.java:198)\n",
      "\tat java.io.FilterOutputStream.close(FilterOutputStream.java:159)\n",
      "\tat org.apache.spark.sql.execution.streaming.state.HDFSBackedStateStoreProvider.finalizeDeltaFile(HDFSBackedStateStoreProvider.scala:450)\n",
      "\tat org.apache.spark.sql.execution.streaming.state.HDFSBackedStateStoreProvider.org$apache$spark$sql$execution$streaming$state$HDFSBackedStateStoreProvider$$commitUpdates(HDFSBackedStateStoreProvider.scala:320)\n",
      "\tat org.apache.spark.sql.execution.streaming.state.HDFSBackedStateStoreProvider$HDFSBackedStateStore.commit(HDFSBackedStateStoreProvider.scala:141)\n",
      "\tat org.apache.spark.sql.execution.streaming.state.StreamingAggregationStateManagerBaseImpl.commit(StreamingAggregationStateManager.scala:89)\n",
      "\tat org.apache.spark.sql.execution.streaming.StateStoreSaveExec.$anonfun$doExecute$7(statefulOperators.scala:395)\n",
      "\tat scala.runtime.java8.JFunction0$mcV$sp.apply(JFunction0$mcV$sp.java:23)\n",
      "\tat org.apache.spark.util.Utils$.timeTakenMs(Utils.scala:642)\n",
      "\tat org.apache.spark.sql.execution.streaming.StateStoreWriter.timeTakenMs(statefulOperators.scala:142)\n",
      "\tat org.apache.spark.sql.execution.streaming.StateStoreWriter.timeTakenMs$(statefulOperators.scala:142)\n",
      "\tat org.apache.spark.sql.execution.streaming.StateStoreSaveExec.timeTakenMs(statefulOperators.scala:352)\n",
      "\tat org.apache.spark.sql.execution.streaming.StateStoreSaveExec.$anonfun$doExecute$5(statefulOperators.scala:395)\n",
      "\tat org.apache.spark.sql.execution.streaming.state.package$StateStoreOps.$anonfun$mapPartitionsWithStateStore$1(package.scala:68)\n",
      "\tat org.apache.spark.sql.execution.streaming.state.StateStoreRDD.compute(StateStoreRDD.scala:127)\n",
      "\tat org.apache.spark.rdd.RDD.computeOrReadCheckpoint(RDD.scala:365)\n",
      "\tat org.apache.spark.rdd.RDD.iterator(RDD.scala:329)\n",
      "\tat org.apache.spark.rdd.MapPartitionsRDD.compute(MapPartitionsRDD.scala:52)\n",
      "\tat org.apache.spark.rdd.RDD.computeOrReadCheckpoint(RDD.scala:365)\n",
      "\tat org.apache.spark.rdd.RDD.iterator(RDD.scala:329)\n",
      "\tat org.apache.spark.rdd.MapPartitionsRDD.compute(MapPartitionsRDD.scala:52)\n",
      "\tat org.apache.spark.rdd.RDD.computeOrReadCheckpoint(RDD.scala:365)\n",
      "\tat org.apache.spark.rdd.RDD.iterator(RDD.scala:329)\n",
      "\tat org.apache.spark.rdd.MapPartitionsRDD.compute(MapPartitionsRDD.scala:52)\n",
      "\tat org.apache.spark.rdd.RDD.computeOrReadCheckpoint(RDD.scala:365)\n",
      "\tat org.apache.spark.rdd.RDD.iterator(RDD.scala:329)\n",
      "\tat org.apache.spark.rdd.MapPartitionsRDD.compute(MapPartitionsRDD.scala:52)\n",
      "\tat org.apache.spark.rdd.RDD.computeOrReadCheckpoint(RDD.scala:365)\n",
      "\tat org.apache.spark.rdd.RDD.iterator(RDD.scala:329)\n",
      "\tat org.apache.spark.scheduler.ResultTask.runTask(ResultTask.scala:90)\n",
      "\tat org.apache.spark.scheduler.Task.run(Task.scala:136)\n",
      "\tat org.apache.spark.executor.Executor$TaskRunner.$anonfun$run$3(Executor.scala:548)\n",
      "\tat org.apache.spark.util.Utils$.tryWithSafeFinally(Utils.scala:1504)\n",
      "\tat org.apache.spark.executor.Executor$TaskRunner.run(Executor.scala:551)\n",
      "\tat java.util.concurrent.ThreadPoolExecutor.runWorker(ThreadPoolExecutor.java:1149)\n",
      "\tat java.util.concurrent.ThreadPoolExecutor$Worker.run(ThreadPoolExecutor.java:624)\n",
      "\tat java.lang.Thread.run(Thread.java:750)\n",
      "23/01/18 20:02:01 WARN TaskSetManager: Lost task 2.0 in stage 7047.0 (TID 51795) (192.168.10.11 executor driver): TaskKilled (Stage cancelled)\n",
      "23/01/18 20:02:01 WARN TaskSetManager: Lost task 0.0 in stage 7047.0 (TID 51793) (192.168.10.11 executor driver): TaskKilled (Stage cancelled)\n",
      "23/01/18 20:02:01 WARN TaskSetManager: Lost task 5.0 in stage 7047.0 (TID 51798) (192.168.10.11 executor driver): TaskKilled (Stage cancelled)\n",
      "23/01/18 20:02:01 WARN TaskSetManager: Lost task 7.0 in stage 7047.0 (TID 51800) (192.168.10.11 executor driver): TaskKilled (Stage cancelled)\n",
      "23/01/18 20:02:01 WARN TaskSetManager: Lost task 4.0 in stage 7047.0 (TID 51797) (192.168.10.11 executor driver): TaskKilled (Stage cancelled)\n",
      "23/01/18 20:02:01 WARN TaskSetManager: Lost task 1.0 in stage 7047.0 (TID 51794) (192.168.10.11 executor driver): TaskKilled (Stage cancelled)\n",
      "23/01/18 20:02:01 WARN TaskSetManager: Lost task 3.0 in stage 7047.0 (TID 51796) (192.168.10.11 executor driver): TaskKilled (Stage cancelled)\n",
      "23/01/18 20:02:01 WARN TaskSetManager: Lost task 6.0 in stage 7047.0 (TID 51799) (192.168.10.11 executor driver): TaskKilled (Stage cancelled)\n"
     ]
    }
   ],
   "source": [
    "activityQuery.stop()"
   ]
  },
  {
   "cell_type": "code",
   "execution_count": 21,
   "id": "0a9e02df",
   "metadata": {},
   "outputs": [
    {
     "name": "stdout",
     "output_type": "stream",
     "text": [
      "+--------------+-----+\n",
      "|published_hour|count|\n",
      "+--------------+-----+\n",
      "|            19|  547|\n",
      "|            18|  385|\n",
      "|            13|  188|\n",
      "|            17|  168|\n",
      "|            12|  157|\n",
      "|            11|  149|\n",
      "|            20|  148|\n",
      "|            21|  137|\n",
      "|            15|  101|\n",
      "|            14|   91|\n",
      "|            16|   89|\n",
      "|             7|   89|\n",
      "|            22|   85|\n",
      "|             0|   78|\n",
      "|             1|   74|\n",
      "|            10|   66|\n",
      "|            23|   63|\n",
      "|             9|   36|\n",
      "|             2|   26|\n",
      "|             3|   25|\n",
      "+--------------+-----+\n",
      "only showing top 20 rows\n",
      "\n"
     ]
    }
   ],
   "source": [
    "df_tempt.show()"
   ]
  },
  {
   "cell_type": "code",
   "execution_count": null,
   "id": "00c205bc",
   "metadata": {},
   "outputs": [],
   "source": []
  }
 ],
 "metadata": {
  "kernelspec": {
   "display_name": "Python 3 (ipykernel)",
   "language": "python",
   "name": "python3"
  },
  "language_info": {
   "codemirror_mode": {
    "name": "ipython",
    "version": 3
   },
   "file_extension": ".py",
   "mimetype": "text/x-python",
   "name": "python",
   "nbconvert_exporter": "python",
   "pygments_lexer": "ipython3",
   "version": "3.9.7"
  }
 },
 "nbformat": 4,
 "nbformat_minor": 5
}
